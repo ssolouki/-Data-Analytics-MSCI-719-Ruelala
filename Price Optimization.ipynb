{
 "cells": [
  {
   "cell_type": "code",
   "execution_count": null,
   "id": "0559019d",
   "metadata": {},
   "outputs": [],
   "source": [
    "install.packages(\"data.table\")\n",
    "install.packages(c(\"rpart\",\"rpart.plot\"), , dependencies = TRUE)\n",
    "install.packages(\"lpSolve\", dependencies = TRUE)\n",
    "library(\"data.table\")\n",
    "library(\"lpSolve\")\n",
    "library(\"rpart\")\n",
    "library(\"rpart.plot\")"
   ]
  },
  {
   "cell_type": "markdown",
   "id": "1856c278",
   "metadata": {
    "id": "1856c278"
   },
   "source": [
    "## Data preparation "
   ]
  },
  {
   "cell_type": "markdown",
   "id": "bf33f8e1",
   "metadata": {
    "id": "bf33f8e1"
   },
   "source": [
    "Read the data"
   ]
  },
  {
   "cell_type": "code",
   "execution_count": 2,
   "id": "b6570de0",
   "metadata": {
    "id": "b6570de0"
   },
   "outputs": [],
   "source": [
    "mydata= read.csv(file.choose())"
   ]
  },
  {
   "cell_type": "code",
   "execution_count": 3,
   "id": "5a688afe",
   "metadata": {
    "id": "5a688afe",
    "outputId": "8c0f068a-d082-4ad1-9aac-c46eae0d6b89"
   },
   "outputs": [
    {
     "data": {
      "text/html": [
       "<ol class=list-inline>\n",
       "\t<li>'ï..Item.'</li>\n",
       "\t<li>'Total.sales'</li>\n",
       "\t<li>'hour.1'</li>\n",
       "\t<li>'hour.2'</li>\n",
       "\t<li>'hour.3'</li>\n",
       "\t<li>'hour.4'</li>\n",
       "\t<li>'hour.5'</li>\n",
       "\t<li>'hour.6'</li>\n",
       "\t<li>'hour.7'</li>\n",
       "\t<li>'hour.8'</li>\n",
       "\t<li>'hour.9'</li>\n",
       "\t<li>'hour.10'</li>\n",
       "\t<li>'hour.11'</li>\n",
       "\t<li>'hour.12'</li>\n",
       "\t<li>'hour.13'</li>\n",
       "\t<li>'hour.14'</li>\n",
       "\t<li>'hour.15'</li>\n",
       "\t<li>'hour.16'</li>\n",
       "\t<li>'hour.17'</li>\n",
       "\t<li>'hour.18'</li>\n",
       "\t<li>'hour.19'</li>\n",
       "\t<li>'hour.20'</li>\n",
       "\t<li>'hour.21'</li>\n",
       "\t<li>'hour.22'</li>\n",
       "\t<li>'hour.23'</li>\n",
       "\t<li>'hour.24'</li>\n",
       "</ol>\n"
      ],
      "text/latex": [
       "\\begin{enumerate*}\n",
       "\\item 'ï..Item.'\n",
       "\\item 'Total.sales'\n",
       "\\item 'hour.1'\n",
       "\\item 'hour.2'\n",
       "\\item 'hour.3'\n",
       "\\item 'hour.4'\n",
       "\\item 'hour.5'\n",
       "\\item 'hour.6'\n",
       "\\item 'hour.7'\n",
       "\\item 'hour.8'\n",
       "\\item 'hour.9'\n",
       "\\item 'hour.10'\n",
       "\\item 'hour.11'\n",
       "\\item 'hour.12'\n",
       "\\item 'hour.13'\n",
       "\\item 'hour.14'\n",
       "\\item 'hour.15'\n",
       "\\item 'hour.16'\n",
       "\\item 'hour.17'\n",
       "\\item 'hour.18'\n",
       "\\item 'hour.19'\n",
       "\\item 'hour.20'\n",
       "\\item 'hour.21'\n",
       "\\item 'hour.22'\n",
       "\\item 'hour.23'\n",
       "\\item 'hour.24'\n",
       "\\end{enumerate*}\n"
      ],
      "text/markdown": [
       "1. 'ï..Item.'\n",
       "2. 'Total.sales'\n",
       "3. 'hour.1'\n",
       "4. 'hour.2'\n",
       "5. 'hour.3'\n",
       "6. 'hour.4'\n",
       "7. 'hour.5'\n",
       "8. 'hour.6'\n",
       "9. 'hour.7'\n",
       "10. 'hour.8'\n",
       "11. 'hour.9'\n",
       "12. 'hour.10'\n",
       "13. 'hour.11'\n",
       "14. 'hour.12'\n",
       "15. 'hour.13'\n",
       "16. 'hour.14'\n",
       "17. 'hour.15'\n",
       "18. 'hour.16'\n",
       "19. 'hour.17'\n",
       "20. 'hour.18'\n",
       "21. 'hour.19'\n",
       "22. 'hour.20'\n",
       "23. 'hour.21'\n",
       "24. 'hour.22'\n",
       "25. 'hour.23'\n",
       "26. 'hour.24'\n",
       "\n",
       "\n"
      ],
      "text/plain": [
       " [1] \"ï..Item.\"    \"Total.sales\" \"hour.1\"      \"hour.2\"      \"hour.3\"     \n",
       " [6] \"hour.4\"      \"hour.5\"      \"hour.6\"      \"hour.7\"      \"hour.8\"     \n",
       "[11] \"hour.9\"      \"hour.10\"     \"hour.11\"     \"hour.12\"     \"hour.13\"    \n",
       "[16] \"hour.14\"     \"hour.15\"     \"hour.16\"     \"hour.17\"     \"hour.18\"    \n",
       "[21] \"hour.19\"     \"hour.20\"     \"hour.21\"     \"hour.22\"     \"hour.23\"    \n",
       "[26] \"hour.24\"    "
      ]
     },
     "metadata": {},
     "output_type": "display_data"
    }
   ],
   "source": [
    "colnames(mydata)"
   ]
  },
  {
   "cell_type": "code",
   "execution_count": 4,
   "id": "80c1c4bd",
   "metadata": {
    "id": "80c1c4bd",
    "outputId": "f7eb353d-7357-4c6d-861f-6ee0ed9a04da"
   },
   "outputs": [
    {
     "data": {
      "text/html": [
       "2446"
      ],
      "text/latex": [
       "2446"
      ],
      "text/markdown": [
       "2446"
      ],
      "text/plain": [
       "[1] 2446"
      ]
     },
     "metadata": {},
     "output_type": "display_data"
    }
   ],
   "source": [
    "nrow(mydata)"
   ]
  },
  {
   "cell_type": "markdown",
   "id": "3d5b7159",
   "metadata": {
    "id": "3d5b7159"
   },
   "source": [
    "Calculate the total inventory used (share of sale)"
   ]
  },
  {
   "cell_type": "code",
   "execution_count": 5,
   "id": "1c99aa69",
   "metadata": {
    "id": "1c99aa69",
    "outputId": "8ac5306e-6699-47c9-de5c-94ada8f132a7"
   },
   "outputs": [
    {
     "data": {
      "text/html": [
       "<ol class=list-inline>\n",
       "\t<li>0.933</li>\n",
       "\t<li>0.938</li>\n",
       "\t<li>0.996</li>\n",
       "\t<li>0.842</li>\n",
       "\t<li>1</li>\n",
       "\t<li>0.998</li>\n",
       "</ol>\n"
      ],
      "text/latex": [
       "\\begin{enumerate*}\n",
       "\\item 0.933\n",
       "\\item 0.938\n",
       "\\item 0.996\n",
       "\\item 0.842\n",
       "\\item 1\n",
       "\\item 0.998\n",
       "\\end{enumerate*}\n"
      ],
      "text/markdown": [
       "1. 0.933\n",
       "2. 0.938\n",
       "3. 0.996\n",
       "4. 0.842\n",
       "5. 1\n",
       "6. 0.998\n",
       "\n",
       "\n"
      ],
      "text/plain": [
       "[1] 0.933 0.938 0.996 0.842 1.000 0.998"
      ]
     },
     "metadata": {},
     "output_type": "display_data"
    }
   ],
   "source": [
    "Total = rowSums(mydata[,3:26])\n",
    "head(Total)"
   ]
  },
  {
   "cell_type": "markdown",
   "id": "1510dd1d",
   "metadata": {
    "id": "1510dd1d"
   },
   "source": [
    "Adding \"Total\" to main table"
   ]
  },
  {
   "cell_type": "code",
   "execution_count": 6,
   "id": "10e28cff",
   "metadata": {
    "id": "10e28cff",
    "outputId": "2ef4c54a-ef64-4509-df35-1d4d08a6147c"
   },
   "outputs": [
    {
     "data": {
      "text/html": [
       "<table>\n",
       "<thead><tr><th scope=col>ï..Item.</th><th scope=col>Total.sales</th><th scope=col>hour.1</th><th scope=col>hour.2</th><th scope=col>hour.3</th><th scope=col>hour.4</th><th scope=col>hour.5</th><th scope=col>hour.6</th><th scope=col>hour.7</th><th scope=col>hour.8</th><th scope=col>...</th><th scope=col>hour.16</th><th scope=col>hour.17</th><th scope=col>hour.18</th><th scope=col>hour.19</th><th scope=col>hour.20</th><th scope=col>hour.21</th><th scope=col>hour.22</th><th scope=col>hour.23</th><th scope=col>hour.24</th><th scope=col>Total</th></tr></thead>\n",
       "<tbody>\n",
       "\t<tr><td>1    </td><td>2854 </td><td>0.113</td><td>0.066</td><td>0.064</td><td>0.064</td><td>0.016</td><td>0.052</td><td>0.042</td><td>0.029</td><td>...  </td><td>0.038</td><td>0.027</td><td>0.034</td><td>0.027</td><td>0.004</td><td>0.006</td><td>0.044</td><td>0.039</td><td>0.001</td><td>0.933</td></tr>\n",
       "\t<tr><td>2    </td><td>2817 </td><td>0.116</td><td>0.051</td><td>0.025</td><td>0.011</td><td>0.072</td><td>0.038</td><td>0.009</td><td>0.046</td><td>...  </td><td>0.049</td><td>0.047</td><td>0.042</td><td>0.035</td><td>0.041</td><td>0.013</td><td>0.032</td><td>0.012</td><td>0.029</td><td>0.938</td></tr>\n",
       "\t<tr><td>3    </td><td>5089 </td><td>0.118</td><td>0.032</td><td>0.072</td><td>0.040</td><td>0.071</td><td>0.018</td><td>0.051</td><td>0.024</td><td>...  </td><td>0.029</td><td>0.048</td><td>0.039</td><td>0.015</td><td>0.037</td><td>0.048</td><td>0.036</td><td>0.033</td><td>0.018</td><td>0.996</td></tr>\n",
       "\t<tr><td>4    </td><td>6906 </td><td>0.138</td><td>0.016</td><td>0.019</td><td>0.048</td><td>0.027</td><td>0.010</td><td>0.015</td><td>0.006</td><td>...  </td><td>0.028</td><td>0.027</td><td>0.037</td><td>0.029</td><td>0.046</td><td>0.046</td><td>0.034</td><td>0.003</td><td>0.045</td><td>0.842</td></tr>\n",
       "\t<tr><td>5    </td><td>3115 </td><td>0.116</td><td>0.032</td><td>0.048</td><td>0.054</td><td>0.035</td><td>0.049</td><td>0.023</td><td>0.075</td><td>...  </td><td>0.048</td><td>0.039</td><td>0.044</td><td>0.012</td><td>0.004</td><td>0.000</td><td>0.000</td><td>0.000</td><td>0.000</td><td>1.000</td></tr>\n",
       "\t<tr><td>6    </td><td>4404 </td><td>0.122</td><td>0.052</td><td>0.068</td><td>0.081</td><td>0.006</td><td>0.083</td><td>0.048</td><td>0.080</td><td>...  </td><td>0.026</td><td>0.029</td><td>0.049</td><td>0.030</td><td>0.012</td><td>0.005</td><td>0.008</td><td>0.000</td><td>0.000</td><td>0.998</td></tr>\n",
       "</tbody>\n",
       "</table>\n"
      ],
      "text/latex": [
       "\\begin{tabular}{r|lllllllllllllllllllllllllll}\n",
       " ï..Item. & Total.sales & hour.1 & hour.2 & hour.3 & hour.4 & hour.5 & hour.6 & hour.7 & hour.8 & ... & hour.16 & hour.17 & hour.18 & hour.19 & hour.20 & hour.21 & hour.22 & hour.23 & hour.24 & Total\\\\\n",
       "\\hline\n",
       "\t 1     & 2854  & 0.113 & 0.066 & 0.064 & 0.064 & 0.016 & 0.052 & 0.042 & 0.029 & ...   & 0.038 & 0.027 & 0.034 & 0.027 & 0.004 & 0.006 & 0.044 & 0.039 & 0.001 & 0.933\\\\\n",
       "\t 2     & 2817  & 0.116 & 0.051 & 0.025 & 0.011 & 0.072 & 0.038 & 0.009 & 0.046 & ...   & 0.049 & 0.047 & 0.042 & 0.035 & 0.041 & 0.013 & 0.032 & 0.012 & 0.029 & 0.938\\\\\n",
       "\t 3     & 5089  & 0.118 & 0.032 & 0.072 & 0.040 & 0.071 & 0.018 & 0.051 & 0.024 & ...   & 0.029 & 0.048 & 0.039 & 0.015 & 0.037 & 0.048 & 0.036 & 0.033 & 0.018 & 0.996\\\\\n",
       "\t 4     & 6906  & 0.138 & 0.016 & 0.019 & 0.048 & 0.027 & 0.010 & 0.015 & 0.006 & ...   & 0.028 & 0.027 & 0.037 & 0.029 & 0.046 & 0.046 & 0.034 & 0.003 & 0.045 & 0.842\\\\\n",
       "\t 5     & 3115  & 0.116 & 0.032 & 0.048 & 0.054 & 0.035 & 0.049 & 0.023 & 0.075 & ...   & 0.048 & 0.039 & 0.044 & 0.012 & 0.004 & 0.000 & 0.000 & 0.000 & 0.000 & 1.000\\\\\n",
       "\t 6     & 4404  & 0.122 & 0.052 & 0.068 & 0.081 & 0.006 & 0.083 & 0.048 & 0.080 & ...   & 0.026 & 0.029 & 0.049 & 0.030 & 0.012 & 0.005 & 0.008 & 0.000 & 0.000 & 0.998\\\\\n",
       "\\end{tabular}\n"
      ],
      "text/markdown": [
       "\n",
       "| ï..Item. | Total.sales | hour.1 | hour.2 | hour.3 | hour.4 | hour.5 | hour.6 | hour.7 | hour.8 | ... | hour.16 | hour.17 | hour.18 | hour.19 | hour.20 | hour.21 | hour.22 | hour.23 | hour.24 | Total |\n",
       "|---|---|---|---|---|---|---|---|---|---|---|---|---|---|---|---|---|---|---|---|---|\n",
       "| 1     | 2854  | 0.113 | 0.066 | 0.064 | 0.064 | 0.016 | 0.052 | 0.042 | 0.029 | ...   | 0.038 | 0.027 | 0.034 | 0.027 | 0.004 | 0.006 | 0.044 | 0.039 | 0.001 | 0.933 |\n",
       "| 2     | 2817  | 0.116 | 0.051 | 0.025 | 0.011 | 0.072 | 0.038 | 0.009 | 0.046 | ...   | 0.049 | 0.047 | 0.042 | 0.035 | 0.041 | 0.013 | 0.032 | 0.012 | 0.029 | 0.938 |\n",
       "| 3     | 5089  | 0.118 | 0.032 | 0.072 | 0.040 | 0.071 | 0.018 | 0.051 | 0.024 | ...   | 0.029 | 0.048 | 0.039 | 0.015 | 0.037 | 0.048 | 0.036 | 0.033 | 0.018 | 0.996 |\n",
       "| 4     | 6906  | 0.138 | 0.016 | 0.019 | 0.048 | 0.027 | 0.010 | 0.015 | 0.006 | ...   | 0.028 | 0.027 | 0.037 | 0.029 | 0.046 | 0.046 | 0.034 | 0.003 | 0.045 | 0.842 |\n",
       "| 5     | 3115  | 0.116 | 0.032 | 0.048 | 0.054 | 0.035 | 0.049 | 0.023 | 0.075 | ...   | 0.048 | 0.039 | 0.044 | 0.012 | 0.004 | 0.000 | 0.000 | 0.000 | 0.000 | 1.000 |\n",
       "| 6     | 4404  | 0.122 | 0.052 | 0.068 | 0.081 | 0.006 | 0.083 | 0.048 | 0.080 | ...   | 0.026 | 0.029 | 0.049 | 0.030 | 0.012 | 0.005 | 0.008 | 0.000 | 0.000 | 0.998 |\n",
       "\n"
      ],
      "text/plain": [
       "  ï..Item. Total.sales hour.1 hour.2 hour.3 hour.4 hour.5 hour.6 hour.7 hour.8\n",
       "1 1        2854        0.113  0.066  0.064  0.064  0.016  0.052  0.042  0.029 \n",
       "2 2        2817        0.116  0.051  0.025  0.011  0.072  0.038  0.009  0.046 \n",
       "3 3        5089        0.118  0.032  0.072  0.040  0.071  0.018  0.051  0.024 \n",
       "4 4        6906        0.138  0.016  0.019  0.048  0.027  0.010  0.015  0.006 \n",
       "5 5        3115        0.116  0.032  0.048  0.054  0.035  0.049  0.023  0.075 \n",
       "6 6        4404        0.122  0.052  0.068  0.081  0.006  0.083  0.048  0.080 \n",
       "  ... hour.16 hour.17 hour.18 hour.19 hour.20 hour.21 hour.22 hour.23 hour.24\n",
       "1 ... 0.038   0.027   0.034   0.027   0.004   0.006   0.044   0.039   0.001  \n",
       "2 ... 0.049   0.047   0.042   0.035   0.041   0.013   0.032   0.012   0.029  \n",
       "3 ... 0.029   0.048   0.039   0.015   0.037   0.048   0.036   0.033   0.018  \n",
       "4 ... 0.028   0.027   0.037   0.029   0.046   0.046   0.034   0.003   0.045  \n",
       "5 ... 0.048   0.039   0.044   0.012   0.004   0.000   0.000   0.000   0.000  \n",
       "6 ... 0.026   0.029   0.049   0.030   0.012   0.005   0.008   0.000   0.000  \n",
       "  Total\n",
       "1 0.933\n",
       "2 0.938\n",
       "3 0.996\n",
       "4 0.842\n",
       "5 1.000\n",
       "6 0.998"
      ]
     },
     "metadata": {},
     "output_type": "display_data"
    }
   ],
   "source": [
    "mydata = cbind(mydata, Total)\n",
    "head(mydata)"
   ]
  },
  {
   "cell_type": "markdown",
   "id": "2a27d46e",
   "metadata": {
    "id": "2a27d46e"
   },
   "source": [
    "Finding stockouts and non-stockouts"
   ]
  },
  {
   "cell_type": "code",
   "execution_count": 7,
   "id": "e131278b",
   "metadata": {
    "id": "e131278b",
    "outputId": "1bab54a4-aeef-4d72-8e4a-a4e36957257e"
   },
   "outputs": [
    {
     "data": {
      "text/html": [
       "<table>\n",
       "<thead><tr><th></th><th scope=col>ï..Item.</th><th scope=col>Total.sales</th><th scope=col>hour.1</th><th scope=col>hour.2</th><th scope=col>hour.3</th><th scope=col>hour.4</th><th scope=col>hour.5</th><th scope=col>hour.6</th><th scope=col>hour.7</th><th scope=col>hour.8</th><th scope=col>...</th><th scope=col>hour.16</th><th scope=col>hour.17</th><th scope=col>hour.18</th><th scope=col>hour.19</th><th scope=col>hour.20</th><th scope=col>hour.21</th><th scope=col>hour.22</th><th scope=col>hour.23</th><th scope=col>hour.24</th><th scope=col>Total</th></tr></thead>\n",
       "<tbody>\n",
       "\t<tr><th scope=row>5</th><td> 5   </td><td>3115 </td><td>0.116</td><td>0.032</td><td>0.048</td><td>0.054</td><td>0.035</td><td>0.049</td><td>0.023</td><td>0.075</td><td>...  </td><td>0.048</td><td>0.039</td><td>0.044</td><td>0.012</td><td>0.004</td><td>0.000</td><td>0.000</td><td>0    </td><td>0    </td><td>1.000</td></tr>\n",
       "\t<tr><th scope=row>12</th><td>12   </td><td>4943 </td><td>0.144</td><td>0.060</td><td>0.038</td><td>0.019</td><td>0.076</td><td>0.072</td><td>0.008</td><td>0.000</td><td>...  </td><td>0.036</td><td>0.021</td><td>0.028</td><td>0.023</td><td>0.019</td><td>0.000</td><td>0.000</td><td>0    </td><td>0    </td><td>1.002</td></tr>\n",
       "\t<tr><th scope=row>14</th><td>14   </td><td>4783 </td><td>0.132</td><td>0.033</td><td>0.002</td><td>0.083</td><td>0.033</td><td>0.068</td><td>0.057</td><td>0.006</td><td>...  </td><td>0.030</td><td>0.043</td><td>0.043</td><td>0.004</td><td>0.011</td><td>0.031</td><td>0.000</td><td>0    </td><td>0    </td><td>1.000</td></tr>\n",
       "\t<tr><th scope=row>17</th><td>17   </td><td>6294 </td><td>0.114</td><td>0.060</td><td>0.031</td><td>0.078</td><td>0.082</td><td>0.026</td><td>0.081</td><td>0.022</td><td>...  </td><td>0.044</td><td>0.041</td><td>0.035</td><td>0.028</td><td>0.009</td><td>0.010</td><td>0.015</td><td>0    </td><td>0    </td><td>1.000</td></tr>\n",
       "\t<tr><th scope=row>19</th><td>19   </td><td>4716 </td><td>0.144</td><td>0.046</td><td>0.048</td><td>0.004</td><td>0.030</td><td>0.056</td><td>0.036</td><td>0.053</td><td>...  </td><td>0.029</td><td>0.034</td><td>0.039</td><td>0.013</td><td>0.028</td><td>0.036</td><td>0.000</td><td>0    </td><td>0    </td><td>1.001</td></tr>\n",
       "\t<tr><th scope=row>36</th><td>36   </td><td>3206 </td><td>0.133</td><td>0.003</td><td>0.080</td><td>0.025</td><td>0.005</td><td>0.056</td><td>0.073</td><td>0.008</td><td>...  </td><td>0.000</td><td>0.000</td><td>0.000</td><td>0.000</td><td>0.000</td><td>0.000</td><td>0.000</td><td>0    </td><td>0    </td><td>1.000</td></tr>\n",
       "</tbody>\n",
       "</table>\n"
      ],
      "text/latex": [
       "\\begin{tabular}{r|lllllllllllllllllllllllllll}\n",
       "  & ï..Item. & Total.sales & hour.1 & hour.2 & hour.3 & hour.4 & hour.5 & hour.6 & hour.7 & hour.8 & ... & hour.16 & hour.17 & hour.18 & hour.19 & hour.20 & hour.21 & hour.22 & hour.23 & hour.24 & Total\\\\\n",
       "\\hline\n",
       "\t5 &  5    & 3115  & 0.116 & 0.032 & 0.048 & 0.054 & 0.035 & 0.049 & 0.023 & 0.075 & ...   & 0.048 & 0.039 & 0.044 & 0.012 & 0.004 & 0.000 & 0.000 & 0     & 0     & 1.000\\\\\n",
       "\t12 & 12    & 4943  & 0.144 & 0.060 & 0.038 & 0.019 & 0.076 & 0.072 & 0.008 & 0.000 & ...   & 0.036 & 0.021 & 0.028 & 0.023 & 0.019 & 0.000 & 0.000 & 0     & 0     & 1.002\\\\\n",
       "\t14 & 14    & 4783  & 0.132 & 0.033 & 0.002 & 0.083 & 0.033 & 0.068 & 0.057 & 0.006 & ...   & 0.030 & 0.043 & 0.043 & 0.004 & 0.011 & 0.031 & 0.000 & 0     & 0     & 1.000\\\\\n",
       "\t17 & 17    & 6294  & 0.114 & 0.060 & 0.031 & 0.078 & 0.082 & 0.026 & 0.081 & 0.022 & ...   & 0.044 & 0.041 & 0.035 & 0.028 & 0.009 & 0.010 & 0.015 & 0     & 0     & 1.000\\\\\n",
       "\t19 & 19    & 4716  & 0.144 & 0.046 & 0.048 & 0.004 & 0.030 & 0.056 & 0.036 & 0.053 & ...   & 0.029 & 0.034 & 0.039 & 0.013 & 0.028 & 0.036 & 0.000 & 0     & 0     & 1.001\\\\\n",
       "\t36 & 36    & 3206  & 0.133 & 0.003 & 0.080 & 0.025 & 0.005 & 0.056 & 0.073 & 0.008 & ...   & 0.000 & 0.000 & 0.000 & 0.000 & 0.000 & 0.000 & 0.000 & 0     & 0     & 1.000\\\\\n",
       "\\end{tabular}\n"
      ],
      "text/markdown": [
       "\n",
       "| <!--/--> | ï..Item. | Total.sales | hour.1 | hour.2 | hour.3 | hour.4 | hour.5 | hour.6 | hour.7 | hour.8 | ... | hour.16 | hour.17 | hour.18 | hour.19 | hour.20 | hour.21 | hour.22 | hour.23 | hour.24 | Total |\n",
       "|---|---|---|---|---|---|---|---|---|---|---|---|---|---|---|---|---|---|---|---|---|---|\n",
       "| 5 |  5    | 3115  | 0.116 | 0.032 | 0.048 | 0.054 | 0.035 | 0.049 | 0.023 | 0.075 | ...   | 0.048 | 0.039 | 0.044 | 0.012 | 0.004 | 0.000 | 0.000 | 0     | 0     | 1.000 |\n",
       "| 12 | 12    | 4943  | 0.144 | 0.060 | 0.038 | 0.019 | 0.076 | 0.072 | 0.008 | 0.000 | ...   | 0.036 | 0.021 | 0.028 | 0.023 | 0.019 | 0.000 | 0.000 | 0     | 0     | 1.002 |\n",
       "| 14 | 14    | 4783  | 0.132 | 0.033 | 0.002 | 0.083 | 0.033 | 0.068 | 0.057 | 0.006 | ...   | 0.030 | 0.043 | 0.043 | 0.004 | 0.011 | 0.031 | 0.000 | 0     | 0     | 1.000 |\n",
       "| 17 | 17    | 6294  | 0.114 | 0.060 | 0.031 | 0.078 | 0.082 | 0.026 | 0.081 | 0.022 | ...   | 0.044 | 0.041 | 0.035 | 0.028 | 0.009 | 0.010 | 0.015 | 0     | 0     | 1.000 |\n",
       "| 19 | 19    | 4716  | 0.144 | 0.046 | 0.048 | 0.004 | 0.030 | 0.056 | 0.036 | 0.053 | ...   | 0.029 | 0.034 | 0.039 | 0.013 | 0.028 | 0.036 | 0.000 | 0     | 0     | 1.001 |\n",
       "| 36 | 36    | 3206  | 0.133 | 0.003 | 0.080 | 0.025 | 0.005 | 0.056 | 0.073 | 0.008 | ...   | 0.000 | 0.000 | 0.000 | 0.000 | 0.000 | 0.000 | 0.000 | 0     | 0     | 1.000 |\n",
       "\n"
      ],
      "text/plain": [
       "   ï..Item. Total.sales hour.1 hour.2 hour.3 hour.4 hour.5 hour.6 hour.7 hour.8\n",
       "5   5       3115        0.116  0.032  0.048  0.054  0.035  0.049  0.023  0.075 \n",
       "12 12       4943        0.144  0.060  0.038  0.019  0.076  0.072  0.008  0.000 \n",
       "14 14       4783        0.132  0.033  0.002  0.083  0.033  0.068  0.057  0.006 \n",
       "17 17       6294        0.114  0.060  0.031  0.078  0.082  0.026  0.081  0.022 \n",
       "19 19       4716        0.144  0.046  0.048  0.004  0.030  0.056  0.036  0.053 \n",
       "36 36       3206        0.133  0.003  0.080  0.025  0.005  0.056  0.073  0.008 \n",
       "   ... hour.16 hour.17 hour.18 hour.19 hour.20 hour.21 hour.22 hour.23 hour.24\n",
       "5  ... 0.048   0.039   0.044   0.012   0.004   0.000   0.000   0       0      \n",
       "12 ... 0.036   0.021   0.028   0.023   0.019   0.000   0.000   0       0      \n",
       "14 ... 0.030   0.043   0.043   0.004   0.011   0.031   0.000   0       0      \n",
       "17 ... 0.044   0.041   0.035   0.028   0.009   0.010   0.015   0       0      \n",
       "19 ... 0.029   0.034   0.039   0.013   0.028   0.036   0.000   0       0      \n",
       "36 ... 0.000   0.000   0.000   0.000   0.000   0.000   0.000   0       0      \n",
       "   Total\n",
       "5  1.000\n",
       "12 1.002\n",
       "14 1.000\n",
       "17 1.000\n",
       "19 1.001\n",
       "36 1.000"
      ]
     },
     "metadata": {},
     "output_type": "display_data"
    }
   ],
   "source": [
    "stockouts=mydata[(mydata$Total>=1 & mydata$hour.24==0),]\n",
    "not_stockouts=mydata[!(mydata$Total>=1 & mydata$hour.24==0),]\n",
    "head(stockouts)"
   ]
  },
  {
   "cell_type": "code",
   "execution_count": 8,
   "id": "8b2d1a11",
   "metadata": {
    "id": "8b2d1a11",
    "outputId": "cea7ab23-9b7e-4851-e7eb-9729a08c3abc"
   },
   "outputs": [
    {
     "data": {
      "text/html": [
       "534"
      ],
      "text/latex": [
       "534"
      ],
      "text/markdown": [
       "534"
      ],
      "text/plain": [
       "[1] 534"
      ]
     },
     "metadata": {},
     "output_type": "display_data"
    }
   ],
   "source": [
    "nrow(stockouts)"
   ]
  },
  {
   "cell_type": "code",
   "execution_count": 9,
   "id": "ff05ce65",
   "metadata": {
    "id": "ff05ce65",
    "outputId": "7e759518-4038-40ab-96d4-c7471b1874f7"
   },
   "outputs": [
    {
     "data": {
      "text/html": [
       "1912"
      ],
      "text/latex": [
       "1912"
      ],
      "text/markdown": [
       "1912"
      ],
      "text/plain": [
       "[1] 1912"
      ]
     },
     "metadata": {},
     "output_type": "display_data"
    }
   ],
   "source": [
    "nrow(not_stockouts)"
   ]
  },
  {
   "cell_type": "markdown",
   "id": "31276e29",
   "metadata": {
    "id": "31276e29"
   },
   "source": [
    "Calculating the cumulative sheet"
   ]
  },
  {
   "cell_type": "code",
   "execution_count": 29,
   "id": "1964bbec",
   "metadata": {
    "id": "1964bbec",
    "outputId": "4410c9b0-7f7f-473b-fa94-5ffd45f81722"
   },
   "outputs": [],
   "source": [
    "a=stockouts[,3:26]\n",
    "b=setDT(a)"
   ]
  },
  {
   "cell_type": "code",
   "execution_count": 11,
   "id": "8c394e69",
   "metadata": {
    "id": "8c394e69",
    "outputId": "335b77c0-5e5a-4f1a-e016-1e0744626db5"
   },
   "outputs": [
    {
     "data": {
      "text/html": [
       "<table>\n",
       "<thead><tr><th scope=col>hour.1</th><th scope=col>hour.2</th><th scope=col>hour.3</th><th scope=col>hour.4</th><th scope=col>hour.5</th><th scope=col>hour.6</th><th scope=col>hour.7</th><th scope=col>hour.8</th><th scope=col>hour.9</th><th scope=col>hour.10</th><th scope=col>...</th><th scope=col>hour.15</th><th scope=col>hour.16</th><th scope=col>hour.17</th><th scope=col>hour.18</th><th scope=col>hour.19</th><th scope=col>hour.20</th><th scope=col>hour.21</th><th scope=col>hour.22</th><th scope=col>hour.23</th><th scope=col>hour.24</th></tr></thead>\n",
       "<tbody>\n",
       "\t<tr><td>0.116</td><td>0.032</td><td>0.048</td><td>0.054</td><td>0.035</td><td>0.049</td><td>0.023</td><td>0.075</td><td>0.063</td><td>0.082</td><td>...  </td><td>0.038</td><td>0.048</td><td>0.039</td><td>0.044</td><td>0.012</td><td>0.004</td><td>0.000</td><td>0.000</td><td>0    </td><td>0    </td></tr>\n",
       "\t<tr><td>0.144</td><td>0.060</td><td>0.038</td><td>0.019</td><td>0.076</td><td>0.072</td><td>0.008</td><td>0.000</td><td>0.079</td><td>0.081</td><td>...  </td><td>0.028</td><td>0.036</td><td>0.021</td><td>0.028</td><td>0.023</td><td>0.019</td><td>0.000</td><td>0.000</td><td>0    </td><td>0    </td></tr>\n",
       "\t<tr><td>0.132</td><td>0.033</td><td>0.002</td><td>0.083</td><td>0.033</td><td>0.068</td><td>0.057</td><td>0.006</td><td>0.079</td><td>0.049</td><td>...  </td><td>0.039</td><td>0.030</td><td>0.043</td><td>0.043</td><td>0.004</td><td>0.011</td><td>0.031</td><td>0.000</td><td>0    </td><td>0    </td></tr>\n",
       "\t<tr><td>0.114</td><td>0.060</td><td>0.031</td><td>0.078</td><td>0.082</td><td>0.026</td><td>0.081</td><td>0.022</td><td>0.054</td><td>0.027</td><td>...  </td><td>0.023</td><td>0.044</td><td>0.041</td><td>0.035</td><td>0.028</td><td>0.009</td><td>0.010</td><td>0.015</td><td>0    </td><td>0    </td></tr>\n",
       "\t<tr><td>0.144</td><td>0.046</td><td>0.048</td><td>0.004</td><td>0.030</td><td>0.056</td><td>0.036</td><td>0.053</td><td>0.076</td><td>0.048</td><td>...  </td><td>0.049</td><td>0.029</td><td>0.034</td><td>0.039</td><td>0.013</td><td>0.028</td><td>0.036</td><td>0.000</td><td>0    </td><td>0    </td></tr>\n",
       "\t<tr><td>0.133</td><td>0.003</td><td>0.080</td><td>0.025</td><td>0.005</td><td>0.056</td><td>0.073</td><td>0.008</td><td>0.029</td><td>0.067</td><td>...  </td><td>0.000</td><td>0.000</td><td>0.000</td><td>0.000</td><td>0.000</td><td>0.000</td><td>0.000</td><td>0.000</td><td>0    </td><td>0    </td></tr>\n",
       "</tbody>\n",
       "</table>\n"
      ],
      "text/latex": [
       "\\begin{tabular}{r|llllllllllllllllllllllll}\n",
       " hour.1 & hour.2 & hour.3 & hour.4 & hour.5 & hour.6 & hour.7 & hour.8 & hour.9 & hour.10 & ... & hour.15 & hour.16 & hour.17 & hour.18 & hour.19 & hour.20 & hour.21 & hour.22 & hour.23 & hour.24\\\\\n",
       "\\hline\n",
       "\t 0.116 & 0.032 & 0.048 & 0.054 & 0.035 & 0.049 & 0.023 & 0.075 & 0.063 & 0.082 & ...   & 0.038 & 0.048 & 0.039 & 0.044 & 0.012 & 0.004 & 0.000 & 0.000 & 0     & 0    \\\\\n",
       "\t 0.144 & 0.060 & 0.038 & 0.019 & 0.076 & 0.072 & 0.008 & 0.000 & 0.079 & 0.081 & ...   & 0.028 & 0.036 & 0.021 & 0.028 & 0.023 & 0.019 & 0.000 & 0.000 & 0     & 0    \\\\\n",
       "\t 0.132 & 0.033 & 0.002 & 0.083 & 0.033 & 0.068 & 0.057 & 0.006 & 0.079 & 0.049 & ...   & 0.039 & 0.030 & 0.043 & 0.043 & 0.004 & 0.011 & 0.031 & 0.000 & 0     & 0    \\\\\n",
       "\t 0.114 & 0.060 & 0.031 & 0.078 & 0.082 & 0.026 & 0.081 & 0.022 & 0.054 & 0.027 & ...   & 0.023 & 0.044 & 0.041 & 0.035 & 0.028 & 0.009 & 0.010 & 0.015 & 0     & 0    \\\\\n",
       "\t 0.144 & 0.046 & 0.048 & 0.004 & 0.030 & 0.056 & 0.036 & 0.053 & 0.076 & 0.048 & ...   & 0.049 & 0.029 & 0.034 & 0.039 & 0.013 & 0.028 & 0.036 & 0.000 & 0     & 0    \\\\\n",
       "\t 0.133 & 0.003 & 0.080 & 0.025 & 0.005 & 0.056 & 0.073 & 0.008 & 0.029 & 0.067 & ...   & 0.000 & 0.000 & 0.000 & 0.000 & 0.000 & 0.000 & 0.000 & 0.000 & 0     & 0    \\\\\n",
       "\\end{tabular}\n"
      ],
      "text/markdown": [
       "\n",
       "| hour.1 | hour.2 | hour.3 | hour.4 | hour.5 | hour.6 | hour.7 | hour.8 | hour.9 | hour.10 | ... | hour.15 | hour.16 | hour.17 | hour.18 | hour.19 | hour.20 | hour.21 | hour.22 | hour.23 | hour.24 |\n",
       "|---|---|---|---|---|---|---|---|---|---|---|---|---|---|---|---|---|---|---|---|---|\n",
       "| 0.116 | 0.032 | 0.048 | 0.054 | 0.035 | 0.049 | 0.023 | 0.075 | 0.063 | 0.082 | ...   | 0.038 | 0.048 | 0.039 | 0.044 | 0.012 | 0.004 | 0.000 | 0.000 | 0     | 0     |\n",
       "| 0.144 | 0.060 | 0.038 | 0.019 | 0.076 | 0.072 | 0.008 | 0.000 | 0.079 | 0.081 | ...   | 0.028 | 0.036 | 0.021 | 0.028 | 0.023 | 0.019 | 0.000 | 0.000 | 0     | 0     |\n",
       "| 0.132 | 0.033 | 0.002 | 0.083 | 0.033 | 0.068 | 0.057 | 0.006 | 0.079 | 0.049 | ...   | 0.039 | 0.030 | 0.043 | 0.043 | 0.004 | 0.011 | 0.031 | 0.000 | 0     | 0     |\n",
       "| 0.114 | 0.060 | 0.031 | 0.078 | 0.082 | 0.026 | 0.081 | 0.022 | 0.054 | 0.027 | ...   | 0.023 | 0.044 | 0.041 | 0.035 | 0.028 | 0.009 | 0.010 | 0.015 | 0     | 0     |\n",
       "| 0.144 | 0.046 | 0.048 | 0.004 | 0.030 | 0.056 | 0.036 | 0.053 | 0.076 | 0.048 | ...   | 0.049 | 0.029 | 0.034 | 0.039 | 0.013 | 0.028 | 0.036 | 0.000 | 0     | 0     |\n",
       "| 0.133 | 0.003 | 0.080 | 0.025 | 0.005 | 0.056 | 0.073 | 0.008 | 0.029 | 0.067 | ...   | 0.000 | 0.000 | 0.000 | 0.000 | 0.000 | 0.000 | 0.000 | 0.000 | 0     | 0     |\n",
       "\n"
      ],
      "text/plain": [
       "  hour.1 hour.2 hour.3 hour.4 hour.5 hour.6 hour.7 hour.8 hour.9 hour.10 ...\n",
       "1 0.116  0.032  0.048  0.054  0.035  0.049  0.023  0.075  0.063  0.082   ...\n",
       "2 0.144  0.060  0.038  0.019  0.076  0.072  0.008  0.000  0.079  0.081   ...\n",
       "3 0.132  0.033  0.002  0.083  0.033  0.068  0.057  0.006  0.079  0.049   ...\n",
       "4 0.114  0.060  0.031  0.078  0.082  0.026  0.081  0.022  0.054  0.027   ...\n",
       "5 0.144  0.046  0.048  0.004  0.030  0.056  0.036  0.053  0.076  0.048   ...\n",
       "6 0.133  0.003  0.080  0.025  0.005  0.056  0.073  0.008  0.029  0.067   ...\n",
       "  hour.15 hour.16 hour.17 hour.18 hour.19 hour.20 hour.21 hour.22 hour.23\n",
       "1 0.038   0.048   0.039   0.044   0.012   0.004   0.000   0.000   0      \n",
       "2 0.028   0.036   0.021   0.028   0.023   0.019   0.000   0.000   0      \n",
       "3 0.039   0.030   0.043   0.043   0.004   0.011   0.031   0.000   0      \n",
       "4 0.023   0.044   0.041   0.035   0.028   0.009   0.010   0.015   0      \n",
       "5 0.049   0.029   0.034   0.039   0.013   0.028   0.036   0.000   0      \n",
       "6 0.000   0.000   0.000   0.000   0.000   0.000   0.000   0.000   0      \n",
       "  hour.24\n",
       "1 0      \n",
       "2 0      \n",
       "3 0      \n",
       "4 0      \n",
       "5 0      \n",
       "6 0      "
      ]
     },
     "metadata": {},
     "output_type": "display_data"
    }
   ],
   "source": [
    "head(b)"
   ]
  },
  {
   "cell_type": "code",
   "execution_count": 12,
   "id": "ab2edad3",
   "metadata": {
    "id": "ab2edad3"
   },
   "outputs": [],
   "source": [
    "b[, names(a) := Reduce(`+`, b, accumulate = TRUE)]"
   ]
  },
  {
   "cell_type": "code",
   "execution_count": 13,
   "id": "1d3fb4c4",
   "metadata": {
    "id": "1d3fb4c4",
    "outputId": "3f527663-9ad2-4ac3-923a-598d202c2b90"
   },
   "outputs": [
    {
     "data": {
      "text/html": [
       "<table>\n",
       "<thead><tr><th scope=col>hour.1</th><th scope=col>hour.2</th><th scope=col>hour.3</th><th scope=col>hour.4</th><th scope=col>hour.5</th><th scope=col>hour.6</th><th scope=col>hour.7</th><th scope=col>hour.8</th><th scope=col>hour.9</th><th scope=col>hour.10</th><th scope=col>...</th><th scope=col>hour.15</th><th scope=col>hour.16</th><th scope=col>hour.17</th><th scope=col>hour.18</th><th scope=col>hour.19</th><th scope=col>hour.20</th><th scope=col>hour.21</th><th scope=col>hour.22</th><th scope=col>hour.23</th><th scope=col>hour.24</th></tr></thead>\n",
       "<tbody>\n",
       "\t<tr><td>0.116</td><td>0.148</td><td>0.196</td><td>0.250</td><td>0.285</td><td>0.334</td><td>0.357</td><td>0.432</td><td>0.495</td><td>0.577</td><td>...  </td><td>0.853</td><td>0.901</td><td>0.940</td><td>0.984</td><td>0.996</td><td>1.000</td><td>1.000</td><td>1.000</td><td>1.000</td><td>1.000</td></tr>\n",
       "\t<tr><td>0.144</td><td>0.204</td><td>0.242</td><td>0.261</td><td>0.337</td><td>0.409</td><td>0.417</td><td>0.417</td><td>0.496</td><td>0.577</td><td>...  </td><td>0.875</td><td>0.911</td><td>0.932</td><td>0.960</td><td>0.983</td><td>1.002</td><td>1.002</td><td>1.002</td><td>1.002</td><td>1.002</td></tr>\n",
       "\t<tr><td>0.132</td><td>0.165</td><td>0.167</td><td>0.250</td><td>0.283</td><td>0.351</td><td>0.408</td><td>0.414</td><td>0.493</td><td>0.542</td><td>...  </td><td>0.838</td><td>0.868</td><td>0.911</td><td>0.954</td><td>0.958</td><td>0.969</td><td>1.000</td><td>1.000</td><td>1.000</td><td>1.000</td></tr>\n",
       "\t<tr><td>0.114</td><td>0.174</td><td>0.205</td><td>0.283</td><td>0.365</td><td>0.391</td><td>0.472</td><td>0.494</td><td>0.548</td><td>0.575</td><td>...  </td><td>0.818</td><td>0.862</td><td>0.903</td><td>0.938</td><td>0.966</td><td>0.975</td><td>0.985</td><td>1.000</td><td>1.000</td><td>1.000</td></tr>\n",
       "\t<tr><td>0.144</td><td>0.190</td><td>0.238</td><td>0.242</td><td>0.272</td><td>0.328</td><td>0.364</td><td>0.417</td><td>0.493</td><td>0.541</td><td>...  </td><td>0.822</td><td>0.851</td><td>0.885</td><td>0.924</td><td>0.937</td><td>0.965</td><td>1.001</td><td>1.001</td><td>1.001</td><td>1.001</td></tr>\n",
       "\t<tr><td>0.133</td><td>0.136</td><td>0.216</td><td>0.241</td><td>0.246</td><td>0.302</td><td>0.375</td><td>0.383</td><td>0.412</td><td>0.479</td><td>...  </td><td>1.000</td><td>1.000</td><td>1.000</td><td>1.000</td><td>1.000</td><td>1.000</td><td>1.000</td><td>1.000</td><td>1.000</td><td>1.000</td></tr>\n",
       "</tbody>\n",
       "</table>\n"
      ],
      "text/latex": [
       "\\begin{tabular}{r|llllllllllllllllllllllll}\n",
       " hour.1 & hour.2 & hour.3 & hour.4 & hour.5 & hour.6 & hour.7 & hour.8 & hour.9 & hour.10 & ... & hour.15 & hour.16 & hour.17 & hour.18 & hour.19 & hour.20 & hour.21 & hour.22 & hour.23 & hour.24\\\\\n",
       "\\hline\n",
       "\t 0.116 & 0.148 & 0.196 & 0.250 & 0.285 & 0.334 & 0.357 & 0.432 & 0.495 & 0.577 & ...   & 0.853 & 0.901 & 0.940 & 0.984 & 0.996 & 1.000 & 1.000 & 1.000 & 1.000 & 1.000\\\\\n",
       "\t 0.144 & 0.204 & 0.242 & 0.261 & 0.337 & 0.409 & 0.417 & 0.417 & 0.496 & 0.577 & ...   & 0.875 & 0.911 & 0.932 & 0.960 & 0.983 & 1.002 & 1.002 & 1.002 & 1.002 & 1.002\\\\\n",
       "\t 0.132 & 0.165 & 0.167 & 0.250 & 0.283 & 0.351 & 0.408 & 0.414 & 0.493 & 0.542 & ...   & 0.838 & 0.868 & 0.911 & 0.954 & 0.958 & 0.969 & 1.000 & 1.000 & 1.000 & 1.000\\\\\n",
       "\t 0.114 & 0.174 & 0.205 & 0.283 & 0.365 & 0.391 & 0.472 & 0.494 & 0.548 & 0.575 & ...   & 0.818 & 0.862 & 0.903 & 0.938 & 0.966 & 0.975 & 0.985 & 1.000 & 1.000 & 1.000\\\\\n",
       "\t 0.144 & 0.190 & 0.238 & 0.242 & 0.272 & 0.328 & 0.364 & 0.417 & 0.493 & 0.541 & ...   & 0.822 & 0.851 & 0.885 & 0.924 & 0.937 & 0.965 & 1.001 & 1.001 & 1.001 & 1.001\\\\\n",
       "\t 0.133 & 0.136 & 0.216 & 0.241 & 0.246 & 0.302 & 0.375 & 0.383 & 0.412 & 0.479 & ...   & 1.000 & 1.000 & 1.000 & 1.000 & 1.000 & 1.000 & 1.000 & 1.000 & 1.000 & 1.000\\\\\n",
       "\\end{tabular}\n"
      ],
      "text/markdown": [
       "\n",
       "| hour.1 | hour.2 | hour.3 | hour.4 | hour.5 | hour.6 | hour.7 | hour.8 | hour.9 | hour.10 | ... | hour.15 | hour.16 | hour.17 | hour.18 | hour.19 | hour.20 | hour.21 | hour.22 | hour.23 | hour.24 |\n",
       "|---|---|---|---|---|---|---|---|---|---|---|---|---|---|---|---|---|---|---|---|---|\n",
       "| 0.116 | 0.148 | 0.196 | 0.250 | 0.285 | 0.334 | 0.357 | 0.432 | 0.495 | 0.577 | ...   | 0.853 | 0.901 | 0.940 | 0.984 | 0.996 | 1.000 | 1.000 | 1.000 | 1.000 | 1.000 |\n",
       "| 0.144 | 0.204 | 0.242 | 0.261 | 0.337 | 0.409 | 0.417 | 0.417 | 0.496 | 0.577 | ...   | 0.875 | 0.911 | 0.932 | 0.960 | 0.983 | 1.002 | 1.002 | 1.002 | 1.002 | 1.002 |\n",
       "| 0.132 | 0.165 | 0.167 | 0.250 | 0.283 | 0.351 | 0.408 | 0.414 | 0.493 | 0.542 | ...   | 0.838 | 0.868 | 0.911 | 0.954 | 0.958 | 0.969 | 1.000 | 1.000 | 1.000 | 1.000 |\n",
       "| 0.114 | 0.174 | 0.205 | 0.283 | 0.365 | 0.391 | 0.472 | 0.494 | 0.548 | 0.575 | ...   | 0.818 | 0.862 | 0.903 | 0.938 | 0.966 | 0.975 | 0.985 | 1.000 | 1.000 | 1.000 |\n",
       "| 0.144 | 0.190 | 0.238 | 0.242 | 0.272 | 0.328 | 0.364 | 0.417 | 0.493 | 0.541 | ...   | 0.822 | 0.851 | 0.885 | 0.924 | 0.937 | 0.965 | 1.001 | 1.001 | 1.001 | 1.001 |\n",
       "| 0.133 | 0.136 | 0.216 | 0.241 | 0.246 | 0.302 | 0.375 | 0.383 | 0.412 | 0.479 | ...   | 1.000 | 1.000 | 1.000 | 1.000 | 1.000 | 1.000 | 1.000 | 1.000 | 1.000 | 1.000 |\n",
       "\n"
      ],
      "text/plain": [
       "  hour.1 hour.2 hour.3 hour.4 hour.5 hour.6 hour.7 hour.8 hour.9 hour.10 ...\n",
       "1 0.116  0.148  0.196  0.250  0.285  0.334  0.357  0.432  0.495  0.577   ...\n",
       "2 0.144  0.204  0.242  0.261  0.337  0.409  0.417  0.417  0.496  0.577   ...\n",
       "3 0.132  0.165  0.167  0.250  0.283  0.351  0.408  0.414  0.493  0.542   ...\n",
       "4 0.114  0.174  0.205  0.283  0.365  0.391  0.472  0.494  0.548  0.575   ...\n",
       "5 0.144  0.190  0.238  0.242  0.272  0.328  0.364  0.417  0.493  0.541   ...\n",
       "6 0.133  0.136  0.216  0.241  0.246  0.302  0.375  0.383  0.412  0.479   ...\n",
       "  hour.15 hour.16 hour.17 hour.18 hour.19 hour.20 hour.21 hour.22 hour.23\n",
       "1 0.853   0.901   0.940   0.984   0.996   1.000   1.000   1.000   1.000  \n",
       "2 0.875   0.911   0.932   0.960   0.983   1.002   1.002   1.002   1.002  \n",
       "3 0.838   0.868   0.911   0.954   0.958   0.969   1.000   1.000   1.000  \n",
       "4 0.818   0.862   0.903   0.938   0.966   0.975   0.985   1.000   1.000  \n",
       "5 0.822   0.851   0.885   0.924   0.937   0.965   1.001   1.001   1.001  \n",
       "6 1.000   1.000   1.000   1.000   1.000   1.000   1.000   1.000   1.000  \n",
       "  hour.24\n",
       "1 1.000  \n",
       "2 1.002  \n",
       "3 1.000  \n",
       "4 1.000  \n",
       "5 1.001  \n",
       "6 1.000  "
      ]
     },
     "metadata": {},
     "output_type": "display_data"
    }
   ],
   "source": [
    "head(b)"
   ]
  },
  {
   "cell_type": "code",
   "execution_count": 14,
   "id": "dfd6c1fb",
   "metadata": {
    "id": "dfd6c1fb",
    "outputId": "297a85e9-8a76-41dd-d6fa-160e0bd34bbf"
   },
   "outputs": [
    {
     "data": {
      "text/html": [
       "534"
      ],
      "text/latex": [
       "534"
      ],
      "text/markdown": [
       "534"
      ],
      "text/plain": [
       "[1] 534"
      ]
     },
     "metadata": {},
     "output_type": "display_data"
    }
   ],
   "source": [
    "stockouts_cumulative=as.data.frame(b)\n",
    "nrow(stockouts_cumulative)"
   ]
  },
  {
   "cell_type": "markdown",
   "id": "f93d227b",
   "metadata": {
    "id": "f93d227b"
   },
   "source": [
    "Finding the stockout time"
   ]
  },
  {
   "cell_type": "code",
   "execution_count": 30,
   "id": "91572c87",
   "metadata": {
    "id": "91572c87",
    "outputId": "46149b5c-e7ee-43a7-91e0-4595c80d3859"
   },
   "outputs": [],
   "source": [
    "stockout_time=vector(mode=\"numeric\")\n",
    "for (i in 1:nrow(stockouts_cumulative)){\n",
    "stockout_time[i]=match(max(stockouts_cumulative[i,]),stockouts_cumulative[i,])\n",
    "}\n"
   ]
  },
  {
   "cell_type": "markdown",
   "id": "514ef4f5",
   "metadata": {
    "id": "514ef4f5"
   },
   "source": [
    "Adding stockout time to table"
   ]
  },
  {
   "cell_type": "code",
   "execution_count": 16,
   "id": "f61a88db",
   "metadata": {
    "id": "f61a88db",
    "outputId": "fbbf910b-665e-46eb-bfe0-60608ae2dd8a"
   },
   "outputs": [
    {
     "data": {
      "text/html": [
       "<table>\n",
       "<thead><tr><th></th><th scope=col>ï..Item.</th><th scope=col>Total.sales</th><th scope=col>hour.1</th><th scope=col>hour.2</th><th scope=col>hour.3</th><th scope=col>hour.4</th><th scope=col>hour.5</th><th scope=col>hour.6</th><th scope=col>hour.7</th><th scope=col>hour.8</th><th scope=col>...</th><th scope=col>hour.17</th><th scope=col>hour.18</th><th scope=col>hour.19</th><th scope=col>hour.20</th><th scope=col>hour.21</th><th scope=col>hour.22</th><th scope=col>hour.23</th><th scope=col>hour.24</th><th scope=col>Total</th><th scope=col>stockout_time</th></tr></thead>\n",
       "<tbody>\n",
       "\t<tr><th scope=row>5</th><td> 5   </td><td>3115 </td><td>0.116</td><td>0.032</td><td>0.048</td><td>0.054</td><td>0.035</td><td>0.049</td><td>0.023</td><td>0.075</td><td>...  </td><td>0.039</td><td>0.044</td><td>0.012</td><td>0.004</td><td>0.000</td><td>0.000</td><td>0    </td><td>0    </td><td>1.000</td><td>20   </td></tr>\n",
       "\t<tr><th scope=row>12</th><td>12   </td><td>4943 </td><td>0.144</td><td>0.060</td><td>0.038</td><td>0.019</td><td>0.076</td><td>0.072</td><td>0.008</td><td>0.000</td><td>...  </td><td>0.021</td><td>0.028</td><td>0.023</td><td>0.019</td><td>0.000</td><td>0.000</td><td>0    </td><td>0    </td><td>1.002</td><td>20   </td></tr>\n",
       "\t<tr><th scope=row>14</th><td>14   </td><td>4783 </td><td>0.132</td><td>0.033</td><td>0.002</td><td>0.083</td><td>0.033</td><td>0.068</td><td>0.057</td><td>0.006</td><td>...  </td><td>0.043</td><td>0.043</td><td>0.004</td><td>0.011</td><td>0.031</td><td>0.000</td><td>0    </td><td>0    </td><td>1.000</td><td>21   </td></tr>\n",
       "\t<tr><th scope=row>17</th><td>17   </td><td>6294 </td><td>0.114</td><td>0.060</td><td>0.031</td><td>0.078</td><td>0.082</td><td>0.026</td><td>0.081</td><td>0.022</td><td>...  </td><td>0.041</td><td>0.035</td><td>0.028</td><td>0.009</td><td>0.010</td><td>0.015</td><td>0    </td><td>0    </td><td>1.000</td><td>22   </td></tr>\n",
       "\t<tr><th scope=row>19</th><td>19   </td><td>4716 </td><td>0.144</td><td>0.046</td><td>0.048</td><td>0.004</td><td>0.030</td><td>0.056</td><td>0.036</td><td>0.053</td><td>...  </td><td>0.034</td><td>0.039</td><td>0.013</td><td>0.028</td><td>0.036</td><td>0.000</td><td>0    </td><td>0    </td><td>1.001</td><td>21   </td></tr>\n",
       "\t<tr><th scope=row>36</th><td>36   </td><td>3206 </td><td>0.133</td><td>0.003</td><td>0.080</td><td>0.025</td><td>0.005</td><td>0.056</td><td>0.073</td><td>0.008</td><td>...  </td><td>0.000</td><td>0.000</td><td>0.000</td><td>0.000</td><td>0.000</td><td>0.000</td><td>0    </td><td>0    </td><td>1.000</td><td>14   </td></tr>\n",
       "</tbody>\n",
       "</table>\n"
      ],
      "text/latex": [
       "\\begin{tabular}{r|llllllllllllllllllllllllllll}\n",
       "  & ï..Item. & Total.sales & hour.1 & hour.2 & hour.3 & hour.4 & hour.5 & hour.6 & hour.7 & hour.8 & ... & hour.17 & hour.18 & hour.19 & hour.20 & hour.21 & hour.22 & hour.23 & hour.24 & Total & stockout\\_time\\\\\n",
       "\\hline\n",
       "\t5 &  5    & 3115  & 0.116 & 0.032 & 0.048 & 0.054 & 0.035 & 0.049 & 0.023 & 0.075 & ...   & 0.039 & 0.044 & 0.012 & 0.004 & 0.000 & 0.000 & 0     & 0     & 1.000 & 20   \\\\\n",
       "\t12 & 12    & 4943  & 0.144 & 0.060 & 0.038 & 0.019 & 0.076 & 0.072 & 0.008 & 0.000 & ...   & 0.021 & 0.028 & 0.023 & 0.019 & 0.000 & 0.000 & 0     & 0     & 1.002 & 20   \\\\\n",
       "\t14 & 14    & 4783  & 0.132 & 0.033 & 0.002 & 0.083 & 0.033 & 0.068 & 0.057 & 0.006 & ...   & 0.043 & 0.043 & 0.004 & 0.011 & 0.031 & 0.000 & 0     & 0     & 1.000 & 21   \\\\\n",
       "\t17 & 17    & 6294  & 0.114 & 0.060 & 0.031 & 0.078 & 0.082 & 0.026 & 0.081 & 0.022 & ...   & 0.041 & 0.035 & 0.028 & 0.009 & 0.010 & 0.015 & 0     & 0     & 1.000 & 22   \\\\\n",
       "\t19 & 19    & 4716  & 0.144 & 0.046 & 0.048 & 0.004 & 0.030 & 0.056 & 0.036 & 0.053 & ...   & 0.034 & 0.039 & 0.013 & 0.028 & 0.036 & 0.000 & 0     & 0     & 1.001 & 21   \\\\\n",
       "\t36 & 36    & 3206  & 0.133 & 0.003 & 0.080 & 0.025 & 0.005 & 0.056 & 0.073 & 0.008 & ...   & 0.000 & 0.000 & 0.000 & 0.000 & 0.000 & 0.000 & 0     & 0     & 1.000 & 14   \\\\\n",
       "\\end{tabular}\n"
      ],
      "text/markdown": [
       "\n",
       "| <!--/--> | ï..Item. | Total.sales | hour.1 | hour.2 | hour.3 | hour.4 | hour.5 | hour.6 | hour.7 | hour.8 | ... | hour.17 | hour.18 | hour.19 | hour.20 | hour.21 | hour.22 | hour.23 | hour.24 | Total | stockout_time |\n",
       "|---|---|---|---|---|---|---|---|---|---|---|---|---|---|---|---|---|---|---|---|---|---|\n",
       "| 5 |  5    | 3115  | 0.116 | 0.032 | 0.048 | 0.054 | 0.035 | 0.049 | 0.023 | 0.075 | ...   | 0.039 | 0.044 | 0.012 | 0.004 | 0.000 | 0.000 | 0     | 0     | 1.000 | 20    |\n",
       "| 12 | 12    | 4943  | 0.144 | 0.060 | 0.038 | 0.019 | 0.076 | 0.072 | 0.008 | 0.000 | ...   | 0.021 | 0.028 | 0.023 | 0.019 | 0.000 | 0.000 | 0     | 0     | 1.002 | 20    |\n",
       "| 14 | 14    | 4783  | 0.132 | 0.033 | 0.002 | 0.083 | 0.033 | 0.068 | 0.057 | 0.006 | ...   | 0.043 | 0.043 | 0.004 | 0.011 | 0.031 | 0.000 | 0     | 0     | 1.000 | 21    |\n",
       "| 17 | 17    | 6294  | 0.114 | 0.060 | 0.031 | 0.078 | 0.082 | 0.026 | 0.081 | 0.022 | ...   | 0.041 | 0.035 | 0.028 | 0.009 | 0.010 | 0.015 | 0     | 0     | 1.000 | 22    |\n",
       "| 19 | 19    | 4716  | 0.144 | 0.046 | 0.048 | 0.004 | 0.030 | 0.056 | 0.036 | 0.053 | ...   | 0.034 | 0.039 | 0.013 | 0.028 | 0.036 | 0.000 | 0     | 0     | 1.001 | 21    |\n",
       "| 36 | 36    | 3206  | 0.133 | 0.003 | 0.080 | 0.025 | 0.005 | 0.056 | 0.073 | 0.008 | ...   | 0.000 | 0.000 | 0.000 | 0.000 | 0.000 | 0.000 | 0     | 0     | 1.000 | 14    |\n",
       "\n"
      ],
      "text/plain": [
       "   ï..Item. Total.sales hour.1 hour.2 hour.3 hour.4 hour.5 hour.6 hour.7 hour.8\n",
       "5   5       3115        0.116  0.032  0.048  0.054  0.035  0.049  0.023  0.075 \n",
       "12 12       4943        0.144  0.060  0.038  0.019  0.076  0.072  0.008  0.000 \n",
       "14 14       4783        0.132  0.033  0.002  0.083  0.033  0.068  0.057  0.006 \n",
       "17 17       6294        0.114  0.060  0.031  0.078  0.082  0.026  0.081  0.022 \n",
       "19 19       4716        0.144  0.046  0.048  0.004  0.030  0.056  0.036  0.053 \n",
       "36 36       3206        0.133  0.003  0.080  0.025  0.005  0.056  0.073  0.008 \n",
       "   ... hour.17 hour.18 hour.19 hour.20 hour.21 hour.22 hour.23 hour.24 Total\n",
       "5  ... 0.039   0.044   0.012   0.004   0.000   0.000   0       0       1.000\n",
       "12 ... 0.021   0.028   0.023   0.019   0.000   0.000   0       0       1.002\n",
       "14 ... 0.043   0.043   0.004   0.011   0.031   0.000   0       0       1.000\n",
       "17 ... 0.041   0.035   0.028   0.009   0.010   0.015   0       0       1.000\n",
       "19 ... 0.034   0.039   0.013   0.028   0.036   0.000   0       0       1.001\n",
       "36 ... 0.000   0.000   0.000   0.000   0.000   0.000   0       0       1.000\n",
       "   stockout_time\n",
       "5  20           \n",
       "12 20           \n",
       "14 21           \n",
       "17 22           \n",
       "19 21           \n",
       "36 14           "
      ]
     },
     "metadata": {},
     "output_type": "display_data"
    }
   ],
   "source": [
    "stockouts=cbind(stockouts,stockout_time)\n",
    "head(stockouts)"
   ]
  },
  {
   "cell_type": "markdown",
   "id": "1756cc11",
   "metadata": {
    "id": "1756cc11"
   },
   "source": [
    "## Clustering"
   ]
  },
  {
   "cell_type": "code",
   "execution_count": 17,
   "id": "72eb9571",
   "metadata": {
    "id": "72eb9571",
    "outputId": "8ca38bf7-66b1-4493-ee81-c81887410a4e"
   },
   "outputs": [
    {
     "data": {
      "text/html": [
       "<table>\n",
       "<thead><tr><th scope=col>hour.1</th><th scope=col>hour.2</th><th scope=col>hour.3</th><th scope=col>hour.4</th><th scope=col>hour.5</th><th scope=col>hour.6</th><th scope=col>hour.7</th><th scope=col>hour.8</th><th scope=col>hour.9</th><th scope=col>hour.10</th><th scope=col>...</th><th scope=col>hour.15</th><th scope=col>hour.16</th><th scope=col>hour.17</th><th scope=col>hour.18</th><th scope=col>hour.19</th><th scope=col>hour.20</th><th scope=col>hour.21</th><th scope=col>hour.22</th><th scope=col>hour.23</th><th scope=col>hour.24</th></tr></thead>\n",
       "<tbody>\n",
       "\t<tr><td>0.1254305   </td><td>0.04359736  </td><td>0.04466032  </td><td>0.04384334  </td><td>0.04414641  </td><td>0.04369253  </td><td>0.04095168  </td><td>0.04040556  </td><td>0.04180381  </td><td>0.04472035  </td><td>...         </td><td>0.03470571  </td><td>0.03523719  </td><td>0.03391069  </td><td>0.03233968  </td><td>0.021487555 </td><td>0.019650073 </td><td>0.016916545 </td><td>0.014503660 </td><td>0.012000000 </td><td>0.0090937042</td></tr>\n",
       "\t<tr><td>0.1263434   </td><td>0.04305051  </td><td>0.04401515  </td><td>0.04057576  </td><td>0.04084848  </td><td>0.04123232  </td><td>0.04307071  </td><td>0.04324242  </td><td>0.03980808  </td><td>0.04421212  </td><td>...         </td><td>0.02637374  </td><td>0.02315152  </td><td>0.01987879  </td><td>0.01465657  </td><td>0.006964646 </td><td>0.005393939 </td><td>0.003681818 </td><td>0.002671717 </td><td>0.001641414 </td><td>0.0008838384</td></tr>\n",
       "\t<tr><td>0.1249335   </td><td>0.04111949  </td><td>0.04131182  </td><td>0.04094952  </td><td>0.04152843  </td><td>0.04155655  </td><td>0.04206006  </td><td>0.04151949  </td><td>0.04150032  </td><td>0.04005112  </td><td>...         </td><td>0.03485942  </td><td>0.03538403  </td><td>0.03468307  </td><td>0.03502045  </td><td>0.024482428 </td><td>0.024197444 </td><td>0.023484984 </td><td>0.022796805 </td><td>0.020881789 </td><td>0.0176198083</td></tr>\n",
       "</tbody>\n",
       "</table>\n"
      ],
      "text/latex": [
       "\\begin{tabular}{r|llllllllllllllllllllllll}\n",
       " hour.1 & hour.2 & hour.3 & hour.4 & hour.5 & hour.6 & hour.7 & hour.8 & hour.9 & hour.10 & ... & hour.15 & hour.16 & hour.17 & hour.18 & hour.19 & hour.20 & hour.21 & hour.22 & hour.23 & hour.24\\\\\n",
       "\\hline\n",
       "\t 0.1254305    & 0.04359736   & 0.04466032   & 0.04384334   & 0.04414641   & 0.04369253   & 0.04095168   & 0.04040556   & 0.04180381   & 0.04472035   & ...          & 0.03470571   & 0.03523719   & 0.03391069   & 0.03233968   & 0.021487555  & 0.019650073  & 0.016916545  & 0.014503660  & 0.012000000  & 0.0090937042\\\\\n",
       "\t 0.1263434    & 0.04305051   & 0.04401515   & 0.04057576   & 0.04084848   & 0.04123232   & 0.04307071   & 0.04324242   & 0.03980808   & 0.04421212   & ...          & 0.02637374   & 0.02315152   & 0.01987879   & 0.01465657   & 0.006964646  & 0.005393939  & 0.003681818  & 0.002671717  & 0.001641414  & 0.0008838384\\\\\n",
       "\t 0.1249335    & 0.04111949   & 0.04131182   & 0.04094952   & 0.04152843   & 0.04155655   & 0.04206006   & 0.04151949   & 0.04150032   & 0.04005112   & ...          & 0.03485942   & 0.03538403   & 0.03468307   & 0.03502045   & 0.024482428  & 0.024197444  & 0.023484984  & 0.022796805  & 0.020881789  & 0.0176198083\\\\\n",
       "\\end{tabular}\n"
      ],
      "text/markdown": [
       "\n",
       "| hour.1 | hour.2 | hour.3 | hour.4 | hour.5 | hour.6 | hour.7 | hour.8 | hour.9 | hour.10 | ... | hour.15 | hour.16 | hour.17 | hour.18 | hour.19 | hour.20 | hour.21 | hour.22 | hour.23 | hour.24 |\n",
       "|---|---|---|---|---|---|---|---|---|---|---|---|---|---|---|---|---|---|---|---|---|\n",
       "| 0.1254305    | 0.04359736   | 0.04466032   | 0.04384334   | 0.04414641   | 0.04369253   | 0.04095168   | 0.04040556   | 0.04180381   | 0.04472035   | ...          | 0.03470571   | 0.03523719   | 0.03391069   | 0.03233968   | 0.021487555  | 0.019650073  | 0.016916545  | 0.014503660  | 0.012000000  | 0.0090937042 |\n",
       "| 0.1263434    | 0.04305051   | 0.04401515   | 0.04057576   | 0.04084848   | 0.04123232   | 0.04307071   | 0.04324242   | 0.03980808   | 0.04421212   | ...          | 0.02637374   | 0.02315152   | 0.01987879   | 0.01465657   | 0.006964646  | 0.005393939  | 0.003681818  | 0.002671717  | 0.001641414  | 0.0008838384 |\n",
       "| 0.1249335    | 0.04111949   | 0.04131182   | 0.04094952   | 0.04152843   | 0.04155655   | 0.04206006   | 0.04151949   | 0.04150032   | 0.04005112   | ...          | 0.03485942   | 0.03538403   | 0.03468307   | 0.03502045   | 0.024482428  | 0.024197444  | 0.023484984  | 0.022796805  | 0.020881789  | 0.0176198083 |\n",
       "\n"
      ],
      "text/plain": [
       "  hour.1    hour.2     hour.3     hour.4     hour.5     hour.6     hour.7    \n",
       "1 0.1254305 0.04359736 0.04466032 0.04384334 0.04414641 0.04369253 0.04095168\n",
       "2 0.1263434 0.04305051 0.04401515 0.04057576 0.04084848 0.04123232 0.04307071\n",
       "3 0.1249335 0.04111949 0.04131182 0.04094952 0.04152843 0.04155655 0.04206006\n",
       "  hour.8     hour.9     hour.10    ... hour.15    hour.16    hour.17   \n",
       "1 0.04040556 0.04180381 0.04472035 ... 0.03470571 0.03523719 0.03391069\n",
       "2 0.04324242 0.03980808 0.04421212 ... 0.02637374 0.02315152 0.01987879\n",
       "3 0.04151949 0.04150032 0.04005112 ... 0.03485942 0.03538403 0.03468307\n",
       "  hour.18    hour.19     hour.20     hour.21     hour.22     hour.23    \n",
       "1 0.03233968 0.021487555 0.019650073 0.016916545 0.014503660 0.012000000\n",
       "2 0.01465657 0.006964646 0.005393939 0.003681818 0.002671717 0.001641414\n",
       "3 0.03502045 0.024482428 0.024197444 0.023484984 0.022796805 0.020881789\n",
       "  hour.24     \n",
       "1 0.0090937042\n",
       "2 0.0008838384\n",
       "3 0.0176198083"
      ]
     },
     "metadata": {},
     "output_type": "display_data"
    }
   ],
   "source": [
    "clusters= kmeans(mydata[,3:26], 3)\n",
    "centroids= clusters$centers\n",
    "centroids"
   ]
  },
  {
   "cell_type": "code",
   "execution_count": 18,
   "id": "a549d3a6",
   "metadata": {
    "id": "a549d3a6",
    "outputId": "bb28b44e-9cfc-4b33-853c-cfcf9aec669c"
   },
   "outputs": [
    {
     "data": {
      "text/html": [
       "<ol class=list-inline>\n",
       "\t<li>3</li>\n",
       "\t<li>3</li>\n",
       "\t<li>3</li>\n",
       "\t<li>3</li>\n",
       "\t<li>1</li>\n",
       "\t<li>3</li>\n",
       "</ol>\n"
      ],
      "text/latex": [
       "\\begin{enumerate*}\n",
       "\\item 3\n",
       "\\item 3\n",
       "\\item 3\n",
       "\\item 3\n",
       "\\item 1\n",
       "\\item 3\n",
       "\\end{enumerate*}\n"
      ],
      "text/markdown": [
       "1. 3\n",
       "2. 3\n",
       "3. 3\n",
       "4. 3\n",
       "5. 1\n",
       "6. 3\n",
       "\n",
       "\n"
      ],
      "text/plain": [
       "[1] 3 3 3 3 1 3"
      ]
     },
     "metadata": {},
     "output_type": "display_data"
    }
   ],
   "source": [
    "head(clusters$cluster)"
   ]
  },
  {
   "cell_type": "markdown",
   "id": "d1049c60",
   "metadata": {
    "id": "d1049c60"
   },
   "source": [
    "### Demand Estimation"
   ]
  },
  {
   "cell_type": "markdown",
   "id": "006f7f5e",
   "metadata": {
    "id": "006f7f5e"
   },
   "source": [
    "Find lost sales and calculate true demand"
   ]
  },
  {
   "cell_type": "code",
   "execution_count": 19,
   "id": "ed083382",
   "metadata": {
    "id": "ed083382",
    "outputId": "dfa3b052-b973-4f4d-eabc-e8cefe60e6f7"
   },
   "outputs": [],
   "source": [
    "true_demand= vector(mode = \"numeric\")\n",
    "for (i in 1:nrow(stockouts)) {\n",
    "    index=stockouts[i,1]\n",
    "    determined_cluster=clusters$cluster[index]\n",
    "    lost_sales= sum(centroids[determined_cluster, (stockouts[i,28]+1):24])\n",
    "    true_demand[i]= stockouts[i,2]/(1-lost_sales)\n",
    "}\n"
   ]
  },
  {
   "cell_type": "markdown",
   "id": "aafaa52b",
   "metadata": {
    "id": "aafaa52b"
   },
   "source": [
    "Adding true demand to stockouts"
   ]
  },
  {
   "cell_type": "code",
   "execution_count": 20,
   "id": "f415a07f",
   "metadata": {
    "id": "f415a07f",
    "outputId": "ed279ac0-4dad-42ad-b34d-5fae03cba753"
   },
   "outputs": [
    {
     "data": {
      "text/html": [
       "<table>\n",
       "<thead><tr><th></th><th scope=col>ï..Item.</th><th scope=col>Total.sales</th><th scope=col>hour.1</th><th scope=col>hour.2</th><th scope=col>hour.3</th><th scope=col>hour.4</th><th scope=col>hour.5</th><th scope=col>hour.6</th><th scope=col>hour.7</th><th scope=col>hour.8</th><th scope=col>...</th><th scope=col>hour.18</th><th scope=col>hour.19</th><th scope=col>hour.20</th><th scope=col>hour.21</th><th scope=col>hour.22</th><th scope=col>hour.23</th><th scope=col>hour.24</th><th scope=col>Total</th><th scope=col>stockout_time</th><th scope=col>true_demand</th></tr></thead>\n",
       "<tbody>\n",
       "\t<tr><th scope=row>5</th><td> 5      </td><td>3115    </td><td>0.116   </td><td>0.032   </td><td>0.048   </td><td>0.054   </td><td>0.035   </td><td>0.049   </td><td>0.023   </td><td>0.075   </td><td>...     </td><td>0.044   </td><td>0.012   </td><td>0.004   </td><td>0.000   </td><td>0.000   </td><td>0       </td><td>0       </td><td>1.000   </td><td>20      </td><td>3287.647</td></tr>\n",
       "\t<tr><th scope=row>12</th><td>12      </td><td>4943    </td><td>0.144   </td><td>0.060   </td><td>0.038   </td><td>0.019   </td><td>0.076   </td><td>0.072   </td><td>0.008   </td><td>0.000   </td><td>...     </td><td>0.028   </td><td>0.023   </td><td>0.019   </td><td>0.000   </td><td>0.000   </td><td>0       </td><td>0       </td><td>1.002   </td><td>20      </td><td>5400.907</td></tr>\n",
       "\t<tr><th scope=row>14</th><td>14      </td><td>4783    </td><td>0.132   </td><td>0.033   </td><td>0.002   </td><td>0.083   </td><td>0.033   </td><td>0.068   </td><td>0.057   </td><td>0.006   </td><td>...     </td><td>0.043   </td><td>0.004   </td><td>0.011   </td><td>0.031   </td><td>0.000   </td><td>0       </td><td>0       </td><td>1.000   </td><td>21      </td><td>5095.336</td></tr>\n",
       "\t<tr><th scope=row>17</th><td>17      </td><td>6294    </td><td>0.114   </td><td>0.060   </td><td>0.031   </td><td>0.078   </td><td>0.082   </td><td>0.026   </td><td>0.081   </td><td>0.022   </td><td>...     </td><td>0.035   </td><td>0.028   </td><td>0.009   </td><td>0.010   </td><td>0.015   </td><td>0       </td><td>0       </td><td>1.000   </td><td>22      </td><td>6429.625</td></tr>\n",
       "\t<tr><th scope=row>19</th><td>19      </td><td>4716    </td><td>0.144   </td><td>0.046   </td><td>0.048   </td><td>0.004   </td><td>0.030   </td><td>0.056   </td><td>0.036   </td><td>0.053   </td><td>...     </td><td>0.039   </td><td>0.013   </td><td>0.028   </td><td>0.036   </td><td>0.000   </td><td>0       </td><td>0       </td><td>1.001   </td><td>21      </td><td>4890.074</td></tr>\n",
       "\t<tr><th scope=row>36</th><td>36      </td><td>3206    </td><td>0.133   </td><td>0.003   </td><td>0.080   </td><td>0.025   </td><td>0.005   </td><td>0.056   </td><td>0.073   </td><td>0.008   </td><td>...     </td><td>0.000   </td><td>0.000   </td><td>0.000   </td><td>0.000   </td><td>0.000   </td><td>0       </td><td>0       </td><td>1.000   </td><td>14      </td><td>3583.316</td></tr>\n",
       "</tbody>\n",
       "</table>\n"
      ],
      "text/latex": [
       "\\begin{tabular}{r|lllllllllllllllllllllllllllll}\n",
       "  & ï..Item. & Total.sales & hour.1 & hour.2 & hour.3 & hour.4 & hour.5 & hour.6 & hour.7 & hour.8 & ... & hour.18 & hour.19 & hour.20 & hour.21 & hour.22 & hour.23 & hour.24 & Total & stockout\\_time & true\\_demand\\\\\n",
       "\\hline\n",
       "\t5 &  5       & 3115     & 0.116    & 0.032    & 0.048    & 0.054    & 0.035    & 0.049    & 0.023    & 0.075    & ...      & 0.044    & 0.012    & 0.004    & 0.000    & 0.000    & 0        & 0        & 1.000    & 20       & 3287.647\\\\\n",
       "\t12 & 12       & 4943     & 0.144    & 0.060    & 0.038    & 0.019    & 0.076    & 0.072    & 0.008    & 0.000    & ...      & 0.028    & 0.023    & 0.019    & 0.000    & 0.000    & 0        & 0        & 1.002    & 20       & 5400.907\\\\\n",
       "\t14 & 14       & 4783     & 0.132    & 0.033    & 0.002    & 0.083    & 0.033    & 0.068    & 0.057    & 0.006    & ...      & 0.043    & 0.004    & 0.011    & 0.031    & 0.000    & 0        & 0        & 1.000    & 21       & 5095.336\\\\\n",
       "\t17 & 17       & 6294     & 0.114    & 0.060    & 0.031    & 0.078    & 0.082    & 0.026    & 0.081    & 0.022    & ...      & 0.035    & 0.028    & 0.009    & 0.010    & 0.015    & 0        & 0        & 1.000    & 22       & 6429.625\\\\\n",
       "\t19 & 19       & 4716     & 0.144    & 0.046    & 0.048    & 0.004    & 0.030    & 0.056    & 0.036    & 0.053    & ...      & 0.039    & 0.013    & 0.028    & 0.036    & 0.000    & 0        & 0        & 1.001    & 21       & 4890.074\\\\\n",
       "\t36 & 36       & 3206     & 0.133    & 0.003    & 0.080    & 0.025    & 0.005    & 0.056    & 0.073    & 0.008    & ...      & 0.000    & 0.000    & 0.000    & 0.000    & 0.000    & 0        & 0        & 1.000    & 14       & 3583.316\\\\\n",
       "\\end{tabular}\n"
      ],
      "text/markdown": [
       "\n",
       "| <!--/--> | ï..Item. | Total.sales | hour.1 | hour.2 | hour.3 | hour.4 | hour.5 | hour.6 | hour.7 | hour.8 | ... | hour.18 | hour.19 | hour.20 | hour.21 | hour.22 | hour.23 | hour.24 | Total | stockout_time | true_demand |\n",
       "|---|---|---|---|---|---|---|---|---|---|---|---|---|---|---|---|---|---|---|---|---|---|\n",
       "| 5 |  5       | 3115     | 0.116    | 0.032    | 0.048    | 0.054    | 0.035    | 0.049    | 0.023    | 0.075    | ...      | 0.044    | 0.012    | 0.004    | 0.000    | 0.000    | 0        | 0        | 1.000    | 20       | 3287.647 |\n",
       "| 12 | 12       | 4943     | 0.144    | 0.060    | 0.038    | 0.019    | 0.076    | 0.072    | 0.008    | 0.000    | ...      | 0.028    | 0.023    | 0.019    | 0.000    | 0.000    | 0        | 0        | 1.002    | 20       | 5400.907 |\n",
       "| 14 | 14       | 4783     | 0.132    | 0.033    | 0.002    | 0.083    | 0.033    | 0.068    | 0.057    | 0.006    | ...      | 0.043    | 0.004    | 0.011    | 0.031    | 0.000    | 0        | 0        | 1.000    | 21       | 5095.336 |\n",
       "| 17 | 17       | 6294     | 0.114    | 0.060    | 0.031    | 0.078    | 0.082    | 0.026    | 0.081    | 0.022    | ...      | 0.035    | 0.028    | 0.009    | 0.010    | 0.015    | 0        | 0        | 1.000    | 22       | 6429.625 |\n",
       "| 19 | 19       | 4716     | 0.144    | 0.046    | 0.048    | 0.004    | 0.030    | 0.056    | 0.036    | 0.053    | ...      | 0.039    | 0.013    | 0.028    | 0.036    | 0.000    | 0        | 0        | 1.001    | 21       | 4890.074 |\n",
       "| 36 | 36       | 3206     | 0.133    | 0.003    | 0.080    | 0.025    | 0.005    | 0.056    | 0.073    | 0.008    | ...      | 0.000    | 0.000    | 0.000    | 0.000    | 0.000    | 0        | 0        | 1.000    | 14       | 3583.316 |\n",
       "\n"
      ],
      "text/plain": [
       "   ï..Item. Total.sales hour.1 hour.2 hour.3 hour.4 hour.5 hour.6 hour.7 hour.8\n",
       "5   5       3115        0.116  0.032  0.048  0.054  0.035  0.049  0.023  0.075 \n",
       "12 12       4943        0.144  0.060  0.038  0.019  0.076  0.072  0.008  0.000 \n",
       "14 14       4783        0.132  0.033  0.002  0.083  0.033  0.068  0.057  0.006 \n",
       "17 17       6294        0.114  0.060  0.031  0.078  0.082  0.026  0.081  0.022 \n",
       "19 19       4716        0.144  0.046  0.048  0.004  0.030  0.056  0.036  0.053 \n",
       "36 36       3206        0.133  0.003  0.080  0.025  0.005  0.056  0.073  0.008 \n",
       "   ... hour.18 hour.19 hour.20 hour.21 hour.22 hour.23 hour.24 Total\n",
       "5  ... 0.044   0.012   0.004   0.000   0.000   0       0       1.000\n",
       "12 ... 0.028   0.023   0.019   0.000   0.000   0       0       1.002\n",
       "14 ... 0.043   0.004   0.011   0.031   0.000   0       0       1.000\n",
       "17 ... 0.035   0.028   0.009   0.010   0.015   0       0       1.000\n",
       "19 ... 0.039   0.013   0.028   0.036   0.000   0       0       1.001\n",
       "36 ... 0.000   0.000   0.000   0.000   0.000   0       0       1.000\n",
       "   stockout_time true_demand\n",
       "5  20            3287.647   \n",
       "12 20            5400.907   \n",
       "14 21            5095.336   \n",
       "17 22            6429.625   \n",
       "19 21            4890.074   \n",
       "36 14            3583.316   "
      ]
     },
     "metadata": {},
     "output_type": "display_data"
    }
   ],
   "source": [
    "stockouts=cbind(stockouts, true_demand)\n",
    "head(stockouts)"
   ]
  },
  {
   "cell_type": "code",
   "execution_count": 21,
   "id": "6738077a",
   "metadata": {
    "id": "6738077a",
    "outputId": "6149b9b1-2454-4992-8bc4-4871db2c11c6"
   },
   "outputs": [
    {
     "data": {
      "text/html": [
       "<table>\n",
       "<thead><tr><th></th><th scope=col>ï..Item.</th><th scope=col>Total.sales</th><th scope=col>hour.1</th><th scope=col>hour.2</th><th scope=col>hour.3</th><th scope=col>hour.4</th><th scope=col>hour.5</th><th scope=col>hour.6</th><th scope=col>hour.7</th><th scope=col>hour.8</th><th scope=col>...</th><th scope=col>hour.17</th><th scope=col>hour.18</th><th scope=col>hour.19</th><th scope=col>hour.20</th><th scope=col>hour.21</th><th scope=col>hour.22</th><th scope=col>hour.23</th><th scope=col>hour.24</th><th scope=col>Total</th><th scope=col>true_demand</th></tr></thead>\n",
       "<tbody>\n",
       "\t<tr><th scope=row>1</th><td>1    </td><td>2854 </td><td>0.113</td><td>0.066</td><td>0.064</td><td>0.064</td><td>0.016</td><td>0.052</td><td>0.042</td><td>0.029</td><td>...  </td><td>0.027</td><td>0.034</td><td>0.027</td><td>0.004</td><td>0.006</td><td>0.044</td><td>0.039</td><td>0.001</td><td>0.933</td><td>2854 </td></tr>\n",
       "\t<tr><th scope=row>2</th><td>2    </td><td>2817 </td><td>0.116</td><td>0.051</td><td>0.025</td><td>0.011</td><td>0.072</td><td>0.038</td><td>0.009</td><td>0.046</td><td>...  </td><td>0.047</td><td>0.042</td><td>0.035</td><td>0.041</td><td>0.013</td><td>0.032</td><td>0.012</td><td>0.029</td><td>0.938</td><td>2817 </td></tr>\n",
       "\t<tr><th scope=row>3</th><td>3    </td><td>5089 </td><td>0.118</td><td>0.032</td><td>0.072</td><td>0.040</td><td>0.071</td><td>0.018</td><td>0.051</td><td>0.024</td><td>...  </td><td>0.048</td><td>0.039</td><td>0.015</td><td>0.037</td><td>0.048</td><td>0.036</td><td>0.033</td><td>0.018</td><td>0.996</td><td>5089 </td></tr>\n",
       "\t<tr><th scope=row>4</th><td>4    </td><td>6906 </td><td>0.138</td><td>0.016</td><td>0.019</td><td>0.048</td><td>0.027</td><td>0.010</td><td>0.015</td><td>0.006</td><td>...  </td><td>0.027</td><td>0.037</td><td>0.029</td><td>0.046</td><td>0.046</td><td>0.034</td><td>0.003</td><td>0.045</td><td>0.842</td><td>6906 </td></tr>\n",
       "\t<tr><th scope=row>6</th><td>6    </td><td>4404 </td><td>0.122</td><td>0.052</td><td>0.068</td><td>0.081</td><td>0.006</td><td>0.083</td><td>0.048</td><td>0.080</td><td>...  </td><td>0.029</td><td>0.049</td><td>0.030</td><td>0.012</td><td>0.005</td><td>0.008</td><td>0.000</td><td>0.000</td><td>0.998</td><td>4404 </td></tr>\n",
       "\t<tr><th scope=row>7</th><td>7    </td><td>5950 </td><td>0.147</td><td>0.012</td><td>0.051</td><td>0.013</td><td>0.071</td><td>0.041</td><td>0.007</td><td>0.052</td><td>...  </td><td>0.045</td><td>0.049</td><td>0.048</td><td>0.034</td><td>0.002</td><td>0.035</td><td>0.004</td><td>0.023</td><td>0.856</td><td>5950 </td></tr>\n",
       "</tbody>\n",
       "</table>\n"
      ],
      "text/latex": [
       "\\begin{tabular}{r|llllllllllllllllllllllllllll}\n",
       "  & ï..Item. & Total.sales & hour.1 & hour.2 & hour.3 & hour.4 & hour.5 & hour.6 & hour.7 & hour.8 & ... & hour.17 & hour.18 & hour.19 & hour.20 & hour.21 & hour.22 & hour.23 & hour.24 & Total & true\\_demand\\\\\n",
       "\\hline\n",
       "\t1 & 1     & 2854  & 0.113 & 0.066 & 0.064 & 0.064 & 0.016 & 0.052 & 0.042 & 0.029 & ...   & 0.027 & 0.034 & 0.027 & 0.004 & 0.006 & 0.044 & 0.039 & 0.001 & 0.933 & 2854 \\\\\n",
       "\t2 & 2     & 2817  & 0.116 & 0.051 & 0.025 & 0.011 & 0.072 & 0.038 & 0.009 & 0.046 & ...   & 0.047 & 0.042 & 0.035 & 0.041 & 0.013 & 0.032 & 0.012 & 0.029 & 0.938 & 2817 \\\\\n",
       "\t3 & 3     & 5089  & 0.118 & 0.032 & 0.072 & 0.040 & 0.071 & 0.018 & 0.051 & 0.024 & ...   & 0.048 & 0.039 & 0.015 & 0.037 & 0.048 & 0.036 & 0.033 & 0.018 & 0.996 & 5089 \\\\\n",
       "\t4 & 4     & 6906  & 0.138 & 0.016 & 0.019 & 0.048 & 0.027 & 0.010 & 0.015 & 0.006 & ...   & 0.027 & 0.037 & 0.029 & 0.046 & 0.046 & 0.034 & 0.003 & 0.045 & 0.842 & 6906 \\\\\n",
       "\t6 & 6     & 4404  & 0.122 & 0.052 & 0.068 & 0.081 & 0.006 & 0.083 & 0.048 & 0.080 & ...   & 0.029 & 0.049 & 0.030 & 0.012 & 0.005 & 0.008 & 0.000 & 0.000 & 0.998 & 4404 \\\\\n",
       "\t7 & 7     & 5950  & 0.147 & 0.012 & 0.051 & 0.013 & 0.071 & 0.041 & 0.007 & 0.052 & ...   & 0.045 & 0.049 & 0.048 & 0.034 & 0.002 & 0.035 & 0.004 & 0.023 & 0.856 & 5950 \\\\\n",
       "\\end{tabular}\n"
      ],
      "text/markdown": [
       "\n",
       "| <!--/--> | ï..Item. | Total.sales | hour.1 | hour.2 | hour.3 | hour.4 | hour.5 | hour.6 | hour.7 | hour.8 | ... | hour.17 | hour.18 | hour.19 | hour.20 | hour.21 | hour.22 | hour.23 | hour.24 | Total | true_demand |\n",
       "|---|---|---|---|---|---|---|---|---|---|---|---|---|---|---|---|---|---|---|---|---|---|\n",
       "| 1 | 1     | 2854  | 0.113 | 0.066 | 0.064 | 0.064 | 0.016 | 0.052 | 0.042 | 0.029 | ...   | 0.027 | 0.034 | 0.027 | 0.004 | 0.006 | 0.044 | 0.039 | 0.001 | 0.933 | 2854  |\n",
       "| 2 | 2     | 2817  | 0.116 | 0.051 | 0.025 | 0.011 | 0.072 | 0.038 | 0.009 | 0.046 | ...   | 0.047 | 0.042 | 0.035 | 0.041 | 0.013 | 0.032 | 0.012 | 0.029 | 0.938 | 2817  |\n",
       "| 3 | 3     | 5089  | 0.118 | 0.032 | 0.072 | 0.040 | 0.071 | 0.018 | 0.051 | 0.024 | ...   | 0.048 | 0.039 | 0.015 | 0.037 | 0.048 | 0.036 | 0.033 | 0.018 | 0.996 | 5089  |\n",
       "| 4 | 4     | 6906  | 0.138 | 0.016 | 0.019 | 0.048 | 0.027 | 0.010 | 0.015 | 0.006 | ...   | 0.027 | 0.037 | 0.029 | 0.046 | 0.046 | 0.034 | 0.003 | 0.045 | 0.842 | 6906  |\n",
       "| 6 | 6     | 4404  | 0.122 | 0.052 | 0.068 | 0.081 | 0.006 | 0.083 | 0.048 | 0.080 | ...   | 0.029 | 0.049 | 0.030 | 0.012 | 0.005 | 0.008 | 0.000 | 0.000 | 0.998 | 4404  |\n",
       "| 7 | 7     | 5950  | 0.147 | 0.012 | 0.051 | 0.013 | 0.071 | 0.041 | 0.007 | 0.052 | ...   | 0.045 | 0.049 | 0.048 | 0.034 | 0.002 | 0.035 | 0.004 | 0.023 | 0.856 | 5950  |\n",
       "\n"
      ],
      "text/plain": [
       "  ï..Item. Total.sales hour.1 hour.2 hour.3 hour.4 hour.5 hour.6 hour.7 hour.8\n",
       "1 1        2854        0.113  0.066  0.064  0.064  0.016  0.052  0.042  0.029 \n",
       "2 2        2817        0.116  0.051  0.025  0.011  0.072  0.038  0.009  0.046 \n",
       "3 3        5089        0.118  0.032  0.072  0.040  0.071  0.018  0.051  0.024 \n",
       "4 4        6906        0.138  0.016  0.019  0.048  0.027  0.010  0.015  0.006 \n",
       "6 6        4404        0.122  0.052  0.068  0.081  0.006  0.083  0.048  0.080 \n",
       "7 7        5950        0.147  0.012  0.051  0.013  0.071  0.041  0.007  0.052 \n",
       "  ... hour.17 hour.18 hour.19 hour.20 hour.21 hour.22 hour.23 hour.24 Total\n",
       "1 ... 0.027   0.034   0.027   0.004   0.006   0.044   0.039   0.001   0.933\n",
       "2 ... 0.047   0.042   0.035   0.041   0.013   0.032   0.012   0.029   0.938\n",
       "3 ... 0.048   0.039   0.015   0.037   0.048   0.036   0.033   0.018   0.996\n",
       "4 ... 0.027   0.037   0.029   0.046   0.046   0.034   0.003   0.045   0.842\n",
       "6 ... 0.029   0.049   0.030   0.012   0.005   0.008   0.000   0.000   0.998\n",
       "7 ... 0.045   0.049   0.048   0.034   0.002   0.035   0.004   0.023   0.856\n",
       "  true_demand\n",
       "1 2854       \n",
       "2 2817       \n",
       "3 5089       \n",
       "4 6906       \n",
       "6 4404       \n",
       "7 5950       "
      ]
     },
     "metadata": {},
     "output_type": "display_data"
    }
   ],
   "source": [
    "true_demand = not_stockouts$Total.sales\n",
    "not_stockouts= cbind(not_stockouts, true_demand)\n",
    "head(not_stockouts)"
   ]
  },
  {
   "cell_type": "code",
   "execution_count": 22,
   "id": "c4b3ef9f",
   "metadata": {
    "id": "c4b3ef9f",
    "outputId": "764f01b5-cb45-4baa-f680-f0e88bb00e04"
   },
   "outputs": [
    {
     "data": {
      "text/html": [
       "<table>\n",
       "<thead><tr><th></th><th scope=col>ï..Item.</th><th scope=col>true_demand</th></tr></thead>\n",
       "<tbody>\n",
       "\t<tr><th scope=row>5</th><td> 5      </td><td>3287.647</td></tr>\n",
       "\t<tr><th scope=row>12</th><td>12      </td><td>5400.907</td></tr>\n",
       "\t<tr><th scope=row>14</th><td>14      </td><td>5095.336</td></tr>\n",
       "\t<tr><th scope=row>17</th><td>17      </td><td>6429.625</td></tr>\n",
       "\t<tr><th scope=row>19</th><td>19      </td><td>4890.074</td></tr>\n",
       "\t<tr><th scope=row>36</th><td>36      </td><td>3583.316</td></tr>\n",
       "</tbody>\n",
       "</table>\n"
      ],
      "text/latex": [
       "\\begin{tabular}{r|ll}\n",
       "  & ï..Item. & true\\_demand\\\\\n",
       "\\hline\n",
       "\t5 &  5       & 3287.647\\\\\n",
       "\t12 & 12       & 5400.907\\\\\n",
       "\t14 & 14       & 5095.336\\\\\n",
       "\t17 & 17       & 6429.625\\\\\n",
       "\t19 & 19       & 4890.074\\\\\n",
       "\t36 & 36       & 3583.316\\\\\n",
       "\\end{tabular}\n"
      ],
      "text/markdown": [
       "\n",
       "| <!--/--> | ï..Item. | true_demand |\n",
       "|---|---|---|\n",
       "| 5 |  5       | 3287.647 |\n",
       "| 12 | 12       | 5400.907 |\n",
       "| 14 | 14       | 5095.336 |\n",
       "| 17 | 17       | 6429.625 |\n",
       "| 19 | 19       | 4890.074 |\n",
       "| 36 | 36       | 3583.316 |\n",
       "\n"
      ],
      "text/plain": [
       "   ï..Item. true_demand\n",
       "5   5       3287.647   \n",
       "12 12       5400.907   \n",
       "14 14       5095.336   \n",
       "17 17       6429.625   \n",
       "19 19       4890.074   \n",
       "36 36       3583.316   "
      ]
     },
     "metadata": {},
     "output_type": "display_data"
    }
   ],
   "source": [
    "Demands= rbind(stockouts[,c(1,29)], not_stockouts[,c(1,28)])\n",
    "head(Demands)"
   ]
  },
  {
   "cell_type": "code",
   "execution_count": 23,
   "id": "5067f8cd",
   "metadata": {
    "id": "5067f8cd",
    "outputId": "54eeb9ef-977c-44f1-97be-524300826330"
   },
   "outputs": [
    {
     "data": {
      "text/html": [
       "<table>\n",
       "<thead><tr><th></th><th scope=col>ï..Item.</th><th scope=col>true_demand</th></tr></thead>\n",
       "<tbody>\n",
       "\t<tr><th scope=row>2440</th><td>2440</td><td>3737</td></tr>\n",
       "\t<tr><th scope=row>2441</th><td>2441</td><td>4307</td></tr>\n",
       "\t<tr><th scope=row>2442</th><td>2442</td><td>4105</td></tr>\n",
       "\t<tr><th scope=row>2443</th><td>2443</td><td>3498</td></tr>\n",
       "\t<tr><th scope=row>2444</th><td>2444</td><td>5201</td></tr>\n",
       "\t<tr><th scope=row>2446</th><td>2446</td><td>4027</td></tr>\n",
       "</tbody>\n",
       "</table>\n"
      ],
      "text/latex": [
       "\\begin{tabular}{r|ll}\n",
       "  & ï..Item. & true\\_demand\\\\\n",
       "\\hline\n",
       "\t2440 & 2440 & 3737\\\\\n",
       "\t2441 & 2441 & 4307\\\\\n",
       "\t2442 & 2442 & 4105\\\\\n",
       "\t2443 & 2443 & 3498\\\\\n",
       "\t2444 & 2444 & 5201\\\\\n",
       "\t2446 & 2446 & 4027\\\\\n",
       "\\end{tabular}\n"
      ],
      "text/markdown": [
       "\n",
       "| <!--/--> | ï..Item. | true_demand |\n",
       "|---|---|---|\n",
       "| 2440 | 2440 | 3737 |\n",
       "| 2441 | 2441 | 4307 |\n",
       "| 2442 | 2442 | 4105 |\n",
       "| 2443 | 2443 | 3498 |\n",
       "| 2444 | 2444 | 5201 |\n",
       "| 2446 | 2446 | 4027 |\n",
       "\n"
      ],
      "text/plain": [
       "     ï..Item. true_demand\n",
       "2440 2440     3737       \n",
       "2441 2441     4307       \n",
       "2442 2442     4105       \n",
       "2443 2443     3498       \n",
       "2444 2444     5201       \n",
       "2446 2446     4027       "
      ]
     },
     "metadata": {},
     "output_type": "display_data"
    }
   ],
   "source": [
    "tail(Demands)"
   ]
  },
  {
   "cell_type": "markdown",
   "id": "ab34952a",
   "metadata": {
    "id": "ab34952a"
   },
   "source": [
    "## Demand prediction "
   ]
  },
  {
   "cell_type": "markdown",
   "id": "6c773ee4",
   "metadata": {
    "id": "6c773ee4"
   },
   "source": [
    "import new data from products features and historical prices"
   ]
  },
  {
   "cell_type": "code",
   "execution_count": 24,
   "id": "92c0508f",
   "metadata": {
    "id": "92c0508f"
   },
   "outputs": [],
   "source": [
    "mydata2= read.csv(file.choose())"
   ]
  },
  {
   "cell_type": "code",
   "execution_count": 25,
   "id": "8734de0c",
   "metadata": {
    "id": "8734de0c",
    "outputId": "3ed3016f-a3c5-4305-cfbd-00eddc2a16e4"
   },
   "outputs": [
    {
     "data": {
      "text/html": [
       "<ol class=list-inline>\n",
       "\t<li>'ï..Item.'</li>\n",
       "\t<li>'Price'</li>\n",
       "\t<li>'Beginning_of_Season'</li>\n",
       "\t<li>'Weekend'</li>\n",
       "\t<li>'Event_Length'</li>\n",
       "\t<li>'Morning'</li>\n",
       "\t<li>'Branded'</li>\n",
       "\t<li>'Color_Popularity'</li>\n",
       "\t<li>'ConcurrentEvents'</li>\n",
       "\t<li>'Number_Competing_Styles_in_Event'</li>\n",
       "\t<li>'Relative_Price_of_Competing_Styles'</li>\n",
       "\t<li>'Num_Branded_Events12'</li>\n",
       "\t<li>'Brand_MSRP_Index'</li>\n",
       "\t<li>'Bottoms'</li>\n",
       "\t<li>'Tops'</li>\n",
       "\t<li>'Dresses'</li>\n",
       "\t<li>'Demand'</li>\n",
       "</ol>\n"
      ],
      "text/latex": [
       "\\begin{enumerate*}\n",
       "\\item 'ï..Item.'\n",
       "\\item 'Price'\n",
       "\\item 'Beginning\\_of\\_Season'\n",
       "\\item 'Weekend'\n",
       "\\item 'Event\\_Length'\n",
       "\\item 'Morning'\n",
       "\\item 'Branded'\n",
       "\\item 'Color\\_Popularity'\n",
       "\\item 'ConcurrentEvents'\n",
       "\\item 'Number\\_Competing\\_Styles\\_in\\_Event'\n",
       "\\item 'Relative\\_Price\\_of\\_Competing\\_Styles'\n",
       "\\item 'Num\\_Branded\\_Events12'\n",
       "\\item 'Brand\\_MSRP\\_Index'\n",
       "\\item 'Bottoms'\n",
       "\\item 'Tops'\n",
       "\\item 'Dresses'\n",
       "\\item 'Demand'\n",
       "\\end{enumerate*}\n"
      ],
      "text/markdown": [
       "1. 'ï..Item.'\n",
       "2. 'Price'\n",
       "3. 'Beginning_of_Season'\n",
       "4. 'Weekend'\n",
       "5. 'Event_Length'\n",
       "6. 'Morning'\n",
       "7. 'Branded'\n",
       "8. 'Color_Popularity'\n",
       "9. 'ConcurrentEvents'\n",
       "10. 'Number_Competing_Styles_in_Event'\n",
       "11. 'Relative_Price_of_Competing_Styles'\n",
       "12. 'Num_Branded_Events12'\n",
       "13. 'Brand_MSRP_Index'\n",
       "14. 'Bottoms'\n",
       "15. 'Tops'\n",
       "16. 'Dresses'\n",
       "17. 'Demand'\n",
       "\n",
       "\n"
      ],
      "text/plain": [
       " [1] \"ï..Item.\"                           \"Price\"                             \n",
       " [3] \"Beginning_of_Season\"                \"Weekend\"                           \n",
       " [5] \"Event_Length\"                       \"Morning\"                           \n",
       " [7] \"Branded\"                            \"Color_Popularity\"                  \n",
       " [9] \"ConcurrentEvents\"                   \"Number_Competing_Styles_in_Event\"  \n",
       "[11] \"Relative_Price_of_Competing_Styles\" \"Num_Branded_Events12\"              \n",
       "[13] \"Brand_MSRP_Index\"                   \"Bottoms\"                           \n",
       "[15] \"Tops\"                               \"Dresses\"                           \n",
       "[17] \"Demand\"                            "
      ]
     },
     "metadata": {},
     "output_type": "display_data"
    }
   ],
   "source": [
    "colnames(mydata2)"
   ]
  },
  {
   "cell_type": "code",
   "execution_count": 26,
   "id": "389551af",
   "metadata": {
    "id": "389551af",
    "outputId": "fee3a9f2-6690-4bdc-f50b-d57f9da74eec"
   },
   "outputs": [
    {
     "data": {
      "text/html": [
       "<table>\n",
       "<thead><tr><th scope=col>ï..Item.</th><th scope=col>Price</th><th scope=col>Beginning_of_Season</th><th scope=col>Weekend</th><th scope=col>Event_Length</th><th scope=col>Morning</th><th scope=col>Branded</th><th scope=col>Color_Popularity</th><th scope=col>ConcurrentEvents</th><th scope=col>Number_Competing_Styles_in_Event</th><th scope=col>Relative_Price_of_Competing_Styles</th><th scope=col>Num_Branded_Events12</th><th scope=col>Brand_MSRP_Index</th><th scope=col>Bottoms</th><th scope=col>Tops</th><th scope=col>Dresses</th><th scope=col>Demand</th></tr></thead>\n",
       "<tbody>\n",
       "\t<tr><td>1   </td><td>31  </td><td>0   </td><td>0   </td><td>1   </td><td>1   </td><td>1   </td><td>0.02</td><td>3   </td><td>29  </td><td>0.95</td><td>0   </td><td>1.31</td><td>0   </td><td>0   </td><td>1   </td><td>2854</td></tr>\n",
       "\t<tr><td>2   </td><td>33  </td><td>0   </td><td>0   </td><td>2   </td><td>1   </td><td>1   </td><td>0.11</td><td>3   </td><td> 9  </td><td>1.00</td><td>2   </td><td>0.64</td><td>0   </td><td>0   </td><td>1   </td><td>2817</td></tr>\n",
       "\t<tr><td>3   </td><td>29  </td><td>1   </td><td>0   </td><td>2   </td><td>1   </td><td>1   </td><td>0.11</td><td>4   </td><td>38  </td><td>0.88</td><td>4   </td><td>0.82</td><td>0   </td><td>1   </td><td>0   </td><td>5089</td></tr>\n",
       "\t<tr><td>4   </td><td>28  </td><td>0   </td><td>0   </td><td>3   </td><td>1   </td><td>1   </td><td>0.31</td><td>3   </td><td>13  </td><td>1.01</td><td>2   </td><td>0.62</td><td>0   </td><td>0   </td><td>0   </td><td>6906</td></tr>\n",
       "\t<tr><td>5   </td><td>39  </td><td>1   </td><td>0   </td><td>2   </td><td>1   </td><td>0   </td><td>0.31</td><td>4   </td><td>25  </td><td>0.84</td><td>0   </td><td>0.70</td><td>0   </td><td>0   </td><td>0   </td><td>3376</td></tr>\n",
       "\t<tr><td>6   </td><td>28  </td><td>0   </td><td>0   </td><td>3   </td><td>0   </td><td>0   </td><td>0.08</td><td>5   </td><td>26  </td><td>0.43</td><td>0   </td><td>0.78</td><td>0   </td><td>1   </td><td>0   </td><td>4647</td></tr>\n",
       "</tbody>\n",
       "</table>\n"
      ],
      "text/latex": [
       "\\begin{tabular}{r|lllllllllllllllll}\n",
       " ï..Item. & Price & Beginning\\_of\\_Season & Weekend & Event\\_Length & Morning & Branded & Color\\_Popularity & ConcurrentEvents & Number\\_Competing\\_Styles\\_in\\_Event & Relative\\_Price\\_of\\_Competing\\_Styles & Num\\_Branded\\_Events12 & Brand\\_MSRP\\_Index & Bottoms & Tops & Dresses & Demand\\\\\n",
       "\\hline\n",
       "\t 1    & 31   & 0    & 0    & 1    & 1    & 1    & 0.02 & 3    & 29   & 0.95 & 0    & 1.31 & 0    & 0    & 1    & 2854\\\\\n",
       "\t 2    & 33   & 0    & 0    & 2    & 1    & 1    & 0.11 & 3    &  9   & 1.00 & 2    & 0.64 & 0    & 0    & 1    & 2817\\\\\n",
       "\t 3    & 29   & 1    & 0    & 2    & 1    & 1    & 0.11 & 4    & 38   & 0.88 & 4    & 0.82 & 0    & 1    & 0    & 5089\\\\\n",
       "\t 4    & 28   & 0    & 0    & 3    & 1    & 1    & 0.31 & 3    & 13   & 1.01 & 2    & 0.62 & 0    & 0    & 0    & 6906\\\\\n",
       "\t 5    & 39   & 1    & 0    & 2    & 1    & 0    & 0.31 & 4    & 25   & 0.84 & 0    & 0.70 & 0    & 0    & 0    & 3376\\\\\n",
       "\t 6    & 28   & 0    & 0    & 3    & 0    & 0    & 0.08 & 5    & 26   & 0.43 & 0    & 0.78 & 0    & 1    & 0    & 4647\\\\\n",
       "\\end{tabular}\n"
      ],
      "text/markdown": [
       "\n",
       "| ï..Item. | Price | Beginning_of_Season | Weekend | Event_Length | Morning | Branded | Color_Popularity | ConcurrentEvents | Number_Competing_Styles_in_Event | Relative_Price_of_Competing_Styles | Num_Branded_Events12 | Brand_MSRP_Index | Bottoms | Tops | Dresses | Demand |\n",
       "|---|---|---|---|---|---|---|---|---|---|---|---|---|---|---|---|---|\n",
       "| 1    | 31   | 0    | 0    | 1    | 1    | 1    | 0.02 | 3    | 29   | 0.95 | 0    | 1.31 | 0    | 0    | 1    | 2854 |\n",
       "| 2    | 33   | 0    | 0    | 2    | 1    | 1    | 0.11 | 3    |  9   | 1.00 | 2    | 0.64 | 0    | 0    | 1    | 2817 |\n",
       "| 3    | 29   | 1    | 0    | 2    | 1    | 1    | 0.11 | 4    | 38   | 0.88 | 4    | 0.82 | 0    | 1    | 0    | 5089 |\n",
       "| 4    | 28   | 0    | 0    | 3    | 1    | 1    | 0.31 | 3    | 13   | 1.01 | 2    | 0.62 | 0    | 0    | 0    | 6906 |\n",
       "| 5    | 39   | 1    | 0    | 2    | 1    | 0    | 0.31 | 4    | 25   | 0.84 | 0    | 0.70 | 0    | 0    | 0    | 3376 |\n",
       "| 6    | 28   | 0    | 0    | 3    | 0    | 0    | 0.08 | 5    | 26   | 0.43 | 0    | 0.78 | 0    | 1    | 0    | 4647 |\n",
       "\n"
      ],
      "text/plain": [
       "  ï..Item. Price Beginning_of_Season Weekend Event_Length Morning Branded\n",
       "1 1        31    0                   0       1            1       1      \n",
       "2 2        33    0                   0       2            1       1      \n",
       "3 3        29    1                   0       2            1       1      \n",
       "4 4        28    0                   0       3            1       1      \n",
       "5 5        39    1                   0       2            1       0      \n",
       "6 6        28    0                   0       3            0       0      \n",
       "  Color_Popularity ConcurrentEvents Number_Competing_Styles_in_Event\n",
       "1 0.02             3                29                              \n",
       "2 0.11             3                 9                              \n",
       "3 0.11             4                38                              \n",
       "4 0.31             3                13                              \n",
       "5 0.31             4                25                              \n",
       "6 0.08             5                26                              \n",
       "  Relative_Price_of_Competing_Styles Num_Branded_Events12 Brand_MSRP_Index\n",
       "1 0.95                               0                    1.31            \n",
       "2 1.00                               2                    0.64            \n",
       "3 0.88                               4                    0.82            \n",
       "4 1.01                               2                    0.62            \n",
       "5 0.84                               0                    0.70            \n",
       "6 0.43                               0                    0.78            \n",
       "  Bottoms Tops Dresses Demand\n",
       "1 0       0    1       2854  \n",
       "2 0       0    1       2817  \n",
       "3 0       1    0       5089  \n",
       "4 0       0    0       6906  \n",
       "5 0       0    0       3376  \n",
       "6 0       1    0       4647  "
      ]
     },
     "metadata": {},
     "output_type": "display_data"
    }
   ],
   "source": [
    "head(mydata2)"
   ]
  },
  {
   "cell_type": "code",
   "execution_count": 27,
   "id": "8a4c43d0",
   "metadata": {
    "id": "8a4c43d0",
    "outputId": "6914c9a3-eb76-4867-ee87-1d7eb8d8743f"
   },
   "outputs": [
    {
     "data": {
      "text/html": [
       "<table>\n",
       "<thead><tr><th scope=col>ï..Item.</th><th scope=col>true_demand</th><th scope=col>Price</th><th scope=col>Beginning_of_Season</th><th scope=col>Weekend</th><th scope=col>Event_Length</th><th scope=col>Morning</th><th scope=col>Branded</th><th scope=col>Color_Popularity</th><th scope=col>ConcurrentEvents</th><th scope=col>Number_Competing_Styles_in_Event</th><th scope=col>Relative_Price_of_Competing_Styles</th><th scope=col>Num_Branded_Events12</th><th scope=col>Brand_MSRP_Index</th><th scope=col>Bottoms</th><th scope=col>Tops</th><th scope=col>Dresses</th><th scope=col>Demand</th></tr></thead>\n",
       "<tbody>\n",
       "\t<tr><td>1       </td><td>2854.000</td><td>31      </td><td>0       </td><td>0       </td><td>1       </td><td>1       </td><td>1       </td><td>0.02    </td><td>3       </td><td>29      </td><td>0.95    </td><td>0       </td><td>1.31    </td><td>0       </td><td>0       </td><td>1       </td><td>2854    </td></tr>\n",
       "\t<tr><td>2       </td><td>2817.000</td><td>33      </td><td>0       </td><td>0       </td><td>2       </td><td>1       </td><td>1       </td><td>0.11    </td><td>3       </td><td> 9      </td><td>1.00    </td><td>2       </td><td>0.64    </td><td>0       </td><td>0       </td><td>1       </td><td>2817    </td></tr>\n",
       "\t<tr><td>3       </td><td>5089.000</td><td>29      </td><td>1       </td><td>0       </td><td>2       </td><td>1       </td><td>1       </td><td>0.11    </td><td>4       </td><td>38      </td><td>0.88    </td><td>4       </td><td>0.82    </td><td>0       </td><td>1       </td><td>0       </td><td>5089    </td></tr>\n",
       "\t<tr><td>4       </td><td>6906.000</td><td>28      </td><td>0       </td><td>0       </td><td>3       </td><td>1       </td><td>1       </td><td>0.31    </td><td>3       </td><td>13      </td><td>1.01    </td><td>2       </td><td>0.62    </td><td>0       </td><td>0       </td><td>0       </td><td>6906    </td></tr>\n",
       "\t<tr><td>5       </td><td>3287.647</td><td>39      </td><td>1       </td><td>0       </td><td>2       </td><td>1       </td><td>0       </td><td>0.31    </td><td>4       </td><td>25      </td><td>0.84    </td><td>0       </td><td>0.70    </td><td>0       </td><td>0       </td><td>0       </td><td>3376    </td></tr>\n",
       "\t<tr><td>6       </td><td>4404.000</td><td>28      </td><td>0       </td><td>0       </td><td>3       </td><td>0       </td><td>0       </td><td>0.08    </td><td>5       </td><td>26      </td><td>0.43    </td><td>0       </td><td>0.78    </td><td>0       </td><td>1       </td><td>0       </td><td>4647    </td></tr>\n",
       "</tbody>\n",
       "</table>\n"
      ],
      "text/latex": [
       "\\begin{tabular}{r|llllllllllllllllll}\n",
       " ï..Item. & true\\_demand & Price & Beginning\\_of\\_Season & Weekend & Event\\_Length & Morning & Branded & Color\\_Popularity & ConcurrentEvents & Number\\_Competing\\_Styles\\_in\\_Event & Relative\\_Price\\_of\\_Competing\\_Styles & Num\\_Branded\\_Events12 & Brand\\_MSRP\\_Index & Bottoms & Tops & Dresses & Demand\\\\\n",
       "\\hline\n",
       "\t 1        & 2854.000 & 31       & 0        & 0        & 1        & 1        & 1        & 0.02     & 3        & 29       & 0.95     & 0        & 1.31     & 0        & 0        & 1        & 2854    \\\\\n",
       "\t 2        & 2817.000 & 33       & 0        & 0        & 2        & 1        & 1        & 0.11     & 3        &  9       & 1.00     & 2        & 0.64     & 0        & 0        & 1        & 2817    \\\\\n",
       "\t 3        & 5089.000 & 29       & 1        & 0        & 2        & 1        & 1        & 0.11     & 4        & 38       & 0.88     & 4        & 0.82     & 0        & 1        & 0        & 5089    \\\\\n",
       "\t 4        & 6906.000 & 28       & 0        & 0        & 3        & 1        & 1        & 0.31     & 3        & 13       & 1.01     & 2        & 0.62     & 0        & 0        & 0        & 6906    \\\\\n",
       "\t 5        & 3287.647 & 39       & 1        & 0        & 2        & 1        & 0        & 0.31     & 4        & 25       & 0.84     & 0        & 0.70     & 0        & 0        & 0        & 3376    \\\\\n",
       "\t 6        & 4404.000 & 28       & 0        & 0        & 3        & 0        & 0        & 0.08     & 5        & 26       & 0.43     & 0        & 0.78     & 0        & 1        & 0        & 4647    \\\\\n",
       "\\end{tabular}\n"
      ],
      "text/markdown": [
       "\n",
       "| ï..Item. | true_demand | Price | Beginning_of_Season | Weekend | Event_Length | Morning | Branded | Color_Popularity | ConcurrentEvents | Number_Competing_Styles_in_Event | Relative_Price_of_Competing_Styles | Num_Branded_Events12 | Brand_MSRP_Index | Bottoms | Tops | Dresses | Demand |\n",
       "|---|---|---|---|---|---|---|---|---|---|---|---|---|---|---|---|---|---|\n",
       "| 1        | 2854.000 | 31       | 0        | 0        | 1        | 1        | 1        | 0.02     | 3        | 29       | 0.95     | 0        | 1.31     | 0        | 0        | 1        | 2854     |\n",
       "| 2        | 2817.000 | 33       | 0        | 0        | 2        | 1        | 1        | 0.11     | 3        |  9       | 1.00     | 2        | 0.64     | 0        | 0        | 1        | 2817     |\n",
       "| 3        | 5089.000 | 29       | 1        | 0        | 2        | 1        | 1        | 0.11     | 4        | 38       | 0.88     | 4        | 0.82     | 0        | 1        | 0        | 5089     |\n",
       "| 4        | 6906.000 | 28       | 0        | 0        | 3        | 1        | 1        | 0.31     | 3        | 13       | 1.01     | 2        | 0.62     | 0        | 0        | 0        | 6906     |\n",
       "| 5        | 3287.647 | 39       | 1        | 0        | 2        | 1        | 0        | 0.31     | 4        | 25       | 0.84     | 0        | 0.70     | 0        | 0        | 0        | 3376     |\n",
       "| 6        | 4404.000 | 28       | 0        | 0        | 3        | 0        | 0        | 0.08     | 5        | 26       | 0.43     | 0        | 0.78     | 0        | 1        | 0        | 4647     |\n",
       "\n"
      ],
      "text/plain": [
       "  ï..Item. true_demand Price Beginning_of_Season Weekend Event_Length Morning\n",
       "1 1        2854.000    31    0                   0       1            1      \n",
       "2 2        2817.000    33    0                   0       2            1      \n",
       "3 3        5089.000    29    1                   0       2            1      \n",
       "4 4        6906.000    28    0                   0       3            1      \n",
       "5 5        3287.647    39    1                   0       2            1      \n",
       "6 6        4404.000    28    0                   0       3            0      \n",
       "  Branded Color_Popularity ConcurrentEvents Number_Competing_Styles_in_Event\n",
       "1 1       0.02             3                29                              \n",
       "2 1       0.11             3                 9                              \n",
       "3 1       0.11             4                38                              \n",
       "4 1       0.31             3                13                              \n",
       "5 0       0.31             4                25                              \n",
       "6 0       0.08             5                26                              \n",
       "  Relative_Price_of_Competing_Styles Num_Branded_Events12 Brand_MSRP_Index\n",
       "1 0.95                               0                    1.31            \n",
       "2 1.00                               2                    0.64            \n",
       "3 0.88                               4                    0.82            \n",
       "4 1.01                               2                    0.62            \n",
       "5 0.84                               0                    0.70            \n",
       "6 0.43                               0                    0.78            \n",
       "  Bottoms Tops Dresses Demand\n",
       "1 0       0    1       2854  \n",
       "2 0       0    1       2817  \n",
       "3 0       1    0       5089  \n",
       "4 0       0    0       6906  \n",
       "5 0       0    0       3376  \n",
       "6 0       1    0       4647  "
      ]
     },
     "metadata": {},
     "output_type": "display_data"
    }
   ],
   "source": [
    "prediction_data= merge(Demands, mydata2, by = \"ï..Item.\")\n",
    "head(prediction_data)"
   ]
  },
  {
   "cell_type": "code",
   "execution_count": 28,
   "id": "b26fb30d",
   "metadata": {
    "id": "b26fb30d",
    "outputId": "53f0103d-0bb7-4ecd-d923-5c22986a0870"
   },
   "outputs": [
    {
     "data": {
      "text/html": [
       "<table>\n",
       "<thead><tr><th scope=col>true_demand</th><th scope=col>Price</th><th scope=col>Beginning_of_Season</th><th scope=col>Weekend</th><th scope=col>Event_Length</th><th scope=col>Morning</th><th scope=col>Branded</th><th scope=col>Color_Popularity</th><th scope=col>ConcurrentEvents</th><th scope=col>Number_Competing_Styles_in_Event</th><th scope=col>Relative_Price_of_Competing_Styles</th><th scope=col>Num_Branded_Events12</th><th scope=col>Brand_MSRP_Index</th><th scope=col>Bottoms</th><th scope=col>Tops</th><th scope=col>Dresses</th></tr></thead>\n",
       "<tbody>\n",
       "\t<tr><td>2854.000</td><td>31      </td><td>0       </td><td>0       </td><td>1       </td><td>1       </td><td>1       </td><td>0.02    </td><td>3       </td><td>29      </td><td>0.95    </td><td>0       </td><td>1.31    </td><td>0       </td><td>0       </td><td>1       </td></tr>\n",
       "\t<tr><td>2817.000</td><td>33      </td><td>0       </td><td>0       </td><td>2       </td><td>1       </td><td>1       </td><td>0.11    </td><td>3       </td><td> 9      </td><td>1.00    </td><td>2       </td><td>0.64    </td><td>0       </td><td>0       </td><td>1       </td></tr>\n",
       "\t<tr><td>5089.000</td><td>29      </td><td>1       </td><td>0       </td><td>2       </td><td>1       </td><td>1       </td><td>0.11    </td><td>4       </td><td>38      </td><td>0.88    </td><td>4       </td><td>0.82    </td><td>0       </td><td>1       </td><td>0       </td></tr>\n",
       "\t<tr><td>6906.000</td><td>28      </td><td>0       </td><td>0       </td><td>3       </td><td>1       </td><td>1       </td><td>0.31    </td><td>3       </td><td>13      </td><td>1.01    </td><td>2       </td><td>0.62    </td><td>0       </td><td>0       </td><td>0       </td></tr>\n",
       "\t<tr><td>3287.647</td><td>39      </td><td>1       </td><td>0       </td><td>2       </td><td>1       </td><td>0       </td><td>0.31    </td><td>4       </td><td>25      </td><td>0.84    </td><td>0       </td><td>0.70    </td><td>0       </td><td>0       </td><td>0       </td></tr>\n",
       "\t<tr><td>4404.000</td><td>28      </td><td>0       </td><td>0       </td><td>3       </td><td>0       </td><td>0       </td><td>0.08    </td><td>5       </td><td>26      </td><td>0.43    </td><td>0       </td><td>0.78    </td><td>0       </td><td>1       </td><td>0       </td></tr>\n",
       "</tbody>\n",
       "</table>\n"
      ],
      "text/latex": [
       "\\begin{tabular}{r|llllllllllllllll}\n",
       " true\\_demand & Price & Beginning\\_of\\_Season & Weekend & Event\\_Length & Morning & Branded & Color\\_Popularity & ConcurrentEvents & Number\\_Competing\\_Styles\\_in\\_Event & Relative\\_Price\\_of\\_Competing\\_Styles & Num\\_Branded\\_Events12 & Brand\\_MSRP\\_Index & Bottoms & Tops & Dresses\\\\\n",
       "\\hline\n",
       "\t 2854.000 & 31       & 0        & 0        & 1        & 1        & 1        & 0.02     & 3        & 29       & 0.95     & 0        & 1.31     & 0        & 0        & 1       \\\\\n",
       "\t 2817.000 & 33       & 0        & 0        & 2        & 1        & 1        & 0.11     & 3        &  9       & 1.00     & 2        & 0.64     & 0        & 0        & 1       \\\\\n",
       "\t 5089.000 & 29       & 1        & 0        & 2        & 1        & 1        & 0.11     & 4        & 38       & 0.88     & 4        & 0.82     & 0        & 1        & 0       \\\\\n",
       "\t 6906.000 & 28       & 0        & 0        & 3        & 1        & 1        & 0.31     & 3        & 13       & 1.01     & 2        & 0.62     & 0        & 0        & 0       \\\\\n",
       "\t 3287.647 & 39       & 1        & 0        & 2        & 1        & 0        & 0.31     & 4        & 25       & 0.84     & 0        & 0.70     & 0        & 0        & 0       \\\\\n",
       "\t 4404.000 & 28       & 0        & 0        & 3        & 0        & 0        & 0.08     & 5        & 26       & 0.43     & 0        & 0.78     & 0        & 1        & 0       \\\\\n",
       "\\end{tabular}\n"
      ],
      "text/markdown": [
       "\n",
       "| true_demand | Price | Beginning_of_Season | Weekend | Event_Length | Morning | Branded | Color_Popularity | ConcurrentEvents | Number_Competing_Styles_in_Event | Relative_Price_of_Competing_Styles | Num_Branded_Events12 | Brand_MSRP_Index | Bottoms | Tops | Dresses |\n",
       "|---|---|---|---|---|---|---|---|---|---|---|---|---|---|---|---|\n",
       "| 2854.000 | 31       | 0        | 0        | 1        | 1        | 1        | 0.02     | 3        | 29       | 0.95     | 0        | 1.31     | 0        | 0        | 1        |\n",
       "| 2817.000 | 33       | 0        | 0        | 2        | 1        | 1        | 0.11     | 3        |  9       | 1.00     | 2        | 0.64     | 0        | 0        | 1        |\n",
       "| 5089.000 | 29       | 1        | 0        | 2        | 1        | 1        | 0.11     | 4        | 38       | 0.88     | 4        | 0.82     | 0        | 1        | 0        |\n",
       "| 6906.000 | 28       | 0        | 0        | 3        | 1        | 1        | 0.31     | 3        | 13       | 1.01     | 2        | 0.62     | 0        | 0        | 0        |\n",
       "| 3287.647 | 39       | 1        | 0        | 2        | 1        | 0        | 0.31     | 4        | 25       | 0.84     | 0        | 0.70     | 0        | 0        | 0        |\n",
       "| 4404.000 | 28       | 0        | 0        | 3        | 0        | 0        | 0.08     | 5        | 26       | 0.43     | 0        | 0.78     | 0        | 1        | 0        |\n",
       "\n"
      ],
      "text/plain": [
       "  true_demand Price Beginning_of_Season Weekend Event_Length Morning Branded\n",
       "1 2854.000    31    0                   0       1            1       1      \n",
       "2 2817.000    33    0                   0       2            1       1      \n",
       "3 5089.000    29    1                   0       2            1       1      \n",
       "4 6906.000    28    0                   0       3            1       1      \n",
       "5 3287.647    39    1                   0       2            1       0      \n",
       "6 4404.000    28    0                   0       3            0       0      \n",
       "  Color_Popularity ConcurrentEvents Number_Competing_Styles_in_Event\n",
       "1 0.02             3                29                              \n",
       "2 0.11             3                 9                              \n",
       "3 0.11             4                38                              \n",
       "4 0.31             3                13                              \n",
       "5 0.31             4                25                              \n",
       "6 0.08             5                26                              \n",
       "  Relative_Price_of_Competing_Styles Num_Branded_Events12 Brand_MSRP_Index\n",
       "1 0.95                               0                    1.31            \n",
       "2 1.00                               2                    0.64            \n",
       "3 0.88                               4                    0.82            \n",
       "4 1.01                               2                    0.62            \n",
       "5 0.84                               0                    0.70            \n",
       "6 0.43                               0                    0.78            \n",
       "  Bottoms Tops Dresses\n",
       "1 0       0    1      \n",
       "2 0       0    1      \n",
       "3 0       1    0      \n",
       "4 0       0    0      \n",
       "5 0       0    0      \n",
       "6 0       1    0      "
      ]
     },
     "metadata": {},
     "output_type": "display_data"
    }
   ],
   "source": [
    "prediction_data= prediction_data[, 2:17]\n",
    "head(prediction_data)"
   ]
  },
  {
   "cell_type": "code",
   "execution_count": 29,
   "id": "7e517b59",
   "metadata": {},
   "outputs": [],
   "source": [
    "set.seed(10)\n",
    "\n",
    "p_integer = sample(nrow(prediction_data), size=0.8 * nrow(prediction_data))\n",
    "\n",
    "Train_set <- prediction_data[p_integer,]\n",
    "Test_set <- prediction_data[-p_integer,]"
   ]
  },
  {
   "cell_type": "markdown",
   "id": "e7b94158",
   "metadata": {
    "id": "e7b94158"
   },
   "source": [
    "### Regression Tree"
   ]
  },
  {
   "cell_type": "code",
   "execution_count": 31,
   "id": "6f0d48ad",
   "metadata": {
    "id": "6f0d48ad",
    "outputId": "e6702ee9-60a7-41f7-a7fb-c56e148a4105"
   },
   "outputs": [
    {
     "data": {
      "text/plain": [
       "n= 1956 \n",
       "\n",
       "node), split, n, deviance, yval\n",
       "      * denotes terminal node\n",
       "\n",
       "  1) root 1956 7854284000  4735.091  \n",
       "    2) Price>=30.5 787  101860100  3332.392 *\n",
       "    3) Price< 30.5 1169 5161479000  5679.423  \n",
       "      6) Brand_MSRP_Index>=0.525 1059 3565263000  5525.487  \n",
       "       12) Event_Length< 3.5 1047 3333541000  5490.740  \n",
       "         24) Branded< 0.5 143  249173200  4779.782 *\n",
       "         25) Branded>=0.5 904 3000652000  5603.204  \n",
       "           50) Relative_Price_of_Competing_Styles>=0.63 852 2516672000  5527.573 *\n",
       "           51) Relative_Price_of_Competing_Styles< 0.63 52  399257000  6842.384  \n",
       "            102) Color_Popularity< 0.255 43  191937100  6260.163 *\n",
       "            103) Color_Popularity>=0.255 9  123102100  9624.103 *\n",
       "       13) Event_Length>=3.5 12  120165800  8557.163 *\n",
       "      7) Brand_MSRP_Index< 0.525 110 1329532000  7161.405  \n",
       "       14) Number_Competing_Styles_in_Event< 44 100  594364400  6556.599  \n",
       "         28) Brand_MSRP_Index>=0.31 87  336633700  6198.162 *\n",
       "         29) Brand_MSRP_Index< 0.31 13  171749800  8955.370 *\n",
       "       15) Number_Competing_Styles_in_Event>=44 10  332797500 13209.470 *"
      ]
     },
     "metadata": {},
     "output_type": "display_data"
    }
   ],
   "source": [
    "regression_tree= rpart(formula = true_demand~., data = Train_set, method = \"anova\")\n",
    "tree_Demand_pred= predict(regression_tree, Test_set)\n",
    "regression_tree"
   ]
  },
  {
   "cell_type": "markdown",
   "id": "8dbdab23",
   "metadata": {},
   "source": [
    "## Linear Regression"
   ]
  },
  {
   "cell_type": "code",
   "execution_count": 32,
   "id": "2514c84b",
   "metadata": {},
   "outputs": [
    {
     "data": {
      "text/plain": [
       "\n",
       "Call:\n",
       "lm(formula = true_demand ~ ., data = Train_set)\n",
       "\n",
       "Coefficients:\n",
       "                       (Intercept)                               Price  \n",
       "                         11620.830                            -201.730  \n",
       "               Beginning_of_Season                             Weekend  \n",
       "                            82.137                              34.827  \n",
       "                      Event_Length                             Morning  \n",
       "                           397.011                            -731.263  \n",
       "                           Branded                    Color_Popularity  \n",
       "                           653.936                             801.348  \n",
       "                  ConcurrentEvents    Number_Competing_Styles_in_Event  \n",
       "                            13.831                               2.812  \n",
       "Relative_Price_of_Competing_Styles                Num_Branded_Events12  \n",
       "                          -855.880                              32.841  \n",
       "                  Brand_MSRP_Index                             Bottoms  \n",
       "                          -431.373                            -329.783  \n",
       "                              Tops                             Dresses  \n",
       "                          -330.680                            -412.601  \n"
      ]
     },
     "metadata": {},
     "output_type": "display_data"
    }
   ],
   "source": [
    "lm_model = lm(true_demand ~ ., data = Train_set)\n",
    "lm_Demand_pred = predict(lm_model, Test_set)\n",
    "lm_model"
   ]
  },
  {
   "cell_type": "markdown",
   "id": "a94e0755",
   "metadata": {},
   "source": [
    "## Comparing the RMSE"
   ]
  },
  {
   "cell_type": "code",
   "execution_count": 62,
   "id": "7c0950d1",
   "metadata": {},
   "outputs": [
    {
     "name": "stdout",
     "output_type": "stream",
     "text": [
      "The RMSE for Linear Regression: 1508.850000   RMSE for Desicion Tree: 1393.300000."
     ]
    }
   ],
   "source": [
    "lm_rmse = sqrt(mean((Test_set$true_demand - lm_Demand_pred)^2))\n",
    "tree_rmse = sqrt(mean((Test_set$true_demand - tree_Demand_pred)^2))\n",
    "\n",
    "printf <- function(...) cat(sprintf(...))\n",
    "printf(\"The RMSE for Linear Regression: %f   RMSE for Desicion Tree: %f.\", round(lm_rmse,2) , round(tree_rmse,2))"
   ]
  },
  {
   "cell_type": "markdown",
   "id": "edfe9236",
   "metadata": {},
   "source": [
    "#### Therefore, the decision tree regression model is the preferred option due to its lower error (RMSE) when compared to linear regression."
   ]
  },
  {
   "cell_type": "markdown",
   "id": "fd6d4f14",
   "metadata": {
    "id": "fd6d4f14"
   },
   "source": [
    "## Price Optimization "
   ]
  },
  {
   "cell_type": "markdown",
   "id": "8c37bb18",
   "metadata": {
    "id": "8c37bb18"
   },
   "source": [
    "$$\n",
    "\\begin{aligned}\n",
    "\\operatorname{Max} & \\sum_{i \\in N} \\sum_{j \\in M} p_j \\widehat{D}_{i j k} x_{i j} \\\\\n",
    "\\text { s.t } \\\\\n",
    "& \\sum_{j \\in M} x_{i j}=1 \\quad \\forall i \\in N \\\\\n",
    "& \\sum_{i \\in N} \\sum_{j \\in M} p_j x_{i j}=k \\\\\n",
    "& x_{i j} \\in\\{0,1\\}\\\\\n",
    "\\end{aligned}\n",
    "$$"
   ]
  },
  {
   "cell_type": "markdown",
   "id": "2d1fd558",
   "metadata": {
    "id": "2d1fd558"
   },
   "source": [
    "Importing Data test "
   ]
  },
  {
   "cell_type": "code",
   "execution_count": 34,
   "id": "9e61f19f",
   "metadata": {
    "id": "9e61f19f",
    "outputId": "e79f63e9-f303-43fa-862f-ea7d0d045c12"
   },
   "outputs": [
    {
     "data": {
      "text/html": [
       "<table>\n",
       "<thead><tr><th scope=col>ï..</th><th scope=col>Beginning_of_Season</th><th scope=col>Weekend</th><th scope=col>Event_Length</th><th scope=col>Morning</th><th scope=col>Branded</th><th scope=col>Color_Popularity</th><th scope=col>ConcurrentEvents</th><th scope=col>Number_Competing_Styles_in_Event</th><th scope=col>Num_Branded_Events12</th><th scope=col>Brand_MSRP_Index</th><th scope=col>Bottoms</th><th scope=col>Tops</th><th scope=col>Dresses</th></tr></thead>\n",
       "<tbody>\n",
       "\t<tr><td>Item A</td><td>1     </td><td>0     </td><td>2     </td><td>0     </td><td>1     </td><td>0.17  </td><td>2     </td><td>3     </td><td>2     </td><td>0.87  </td><td>0     </td><td>1     </td><td>0     </td></tr>\n",
       "\t<tr><td>Item B</td><td>1     </td><td>0     </td><td>2     </td><td>0     </td><td>0     </td><td>0.65  </td><td>2     </td><td>3     </td><td>1     </td><td>0.33  </td><td>0     </td><td>1     </td><td>0     </td></tr>\n",
       "\t<tr><td>Item C</td><td>1     </td><td>0     </td><td>2     </td><td>0     </td><td>1     </td><td>0.08  </td><td>2     </td><td>3     </td><td>1     </td><td>1.18  </td><td>0     </td><td>1     </td><td>0     </td></tr>\n",
       "</tbody>\n",
       "</table>\n"
      ],
      "text/latex": [
       "\\begin{tabular}{r|llllllllllllll}\n",
       " ï.. & Beginning\\_of\\_Season & Weekend & Event\\_Length & Morning & Branded & Color\\_Popularity & ConcurrentEvents & Number\\_Competing\\_Styles\\_in\\_Event & Num\\_Branded\\_Events12 & Brand\\_MSRP\\_Index & Bottoms & Tops & Dresses\\\\\n",
       "\\hline\n",
       "\t Item A & 1      & 0      & 2      & 0      & 1      & 0.17   & 2      & 3      & 2      & 0.87   & 0      & 1      & 0     \\\\\n",
       "\t Item B & 1      & 0      & 2      & 0      & 0      & 0.65   & 2      & 3      & 1      & 0.33   & 0      & 1      & 0     \\\\\n",
       "\t Item C & 1      & 0      & 2      & 0      & 1      & 0.08   & 2      & 3      & 1      & 1.18   & 0      & 1      & 0     \\\\\n",
       "\\end{tabular}\n"
      ],
      "text/markdown": [
       "\n",
       "| ï.. | Beginning_of_Season | Weekend | Event_Length | Morning | Branded | Color_Popularity | ConcurrentEvents | Number_Competing_Styles_in_Event | Num_Branded_Events12 | Brand_MSRP_Index | Bottoms | Tops | Dresses |\n",
       "|---|---|---|---|---|---|---|---|---|---|---|---|---|---|\n",
       "| Item A | 1      | 0      | 2      | 0      | 1      | 0.17   | 2      | 3      | 2      | 0.87   | 0      | 1      | 0      |\n",
       "| Item B | 1      | 0      | 2      | 0      | 0      | 0.65   | 2      | 3      | 1      | 0.33   | 0      | 1      | 0      |\n",
       "| Item C | 1      | 0      | 2      | 0      | 1      | 0.08   | 2      | 3      | 1      | 1.18   | 0      | 1      | 0      |\n",
       "\n"
      ],
      "text/plain": [
       "  ï..    Beginning_of_Season Weekend Event_Length Morning Branded\n",
       "1 Item A 1                   0       2            0       1      \n",
       "2 Item B 1                   0       2            0       0      \n",
       "3 Item C 1                   0       2            0       1      \n",
       "  Color_Popularity ConcurrentEvents Number_Competing_Styles_in_Event\n",
       "1 0.17             2                3                               \n",
       "2 0.65             2                3                               \n",
       "3 0.08             2                3                               \n",
       "  Num_Branded_Events12 Brand_MSRP_Index Bottoms Tops Dresses\n",
       "1 2                    0.87             0       1    0      \n",
       "2 1                    0.33             0       1    0      \n",
       "3 1                    1.18             0       1    0      "
      ]
     },
     "metadata": {},
     "output_type": "display_data"
    }
   ],
   "source": [
    "Data_test= read.csv(file.choose())\n",
    "head(Data_test)"
   ]
  },
  {
   "cell_type": "markdown",
   "id": "cebe1d0f",
   "metadata": {
    "id": "cebe1d0f"
   },
   "source": [
    " Defining list of prices"
   ]
  },
  {
   "cell_type": "code",
   "execution_count": 35,
   "id": "e4d31965",
   "metadata": {
    "id": "e4d31965",
    "outputId": "ba8fb4ee-41a3-406f-f3b7-f5abc84b1a99"
   },
   "outputs": [
    {
     "data": {
      "text/html": [
       "<ol class=list-inline>\n",
       "\t<li>25</li>\n",
       "\t<li>30</li>\n",
       "\t<li>35</li>\n",
       "\t<li>25</li>\n",
       "\t<li>30</li>\n",
       "\t<li>35</li>\n",
       "\t<li>25</li>\n",
       "\t<li>30</li>\n",
       "\t<li>35</li>\n",
       "</ol>\n"
      ],
      "text/latex": [
       "\\begin{enumerate*}\n",
       "\\item 25\n",
       "\\item 30\n",
       "\\item 35\n",
       "\\item 25\n",
       "\\item 30\n",
       "\\item 35\n",
       "\\item 25\n",
       "\\item 30\n",
       "\\item 35\n",
       "\\end{enumerate*}\n"
      ],
      "text/markdown": [
       "1. 25\n",
       "2. 30\n",
       "3. 35\n",
       "4. 25\n",
       "5. 30\n",
       "6. 35\n",
       "7. 25\n",
       "8. 30\n",
       "9. 35\n",
       "\n",
       "\n"
      ],
      "text/plain": [
       "[1] 25 30 35 25 30 35 25 30 35"
      ]
     },
     "metadata": {},
     "output_type": "display_data"
    }
   ],
   "source": [
    "Prices= c(25, 30, 35)\n",
    "P = rep(Prices, nrow(Data_test))\n",
    "P"
   ]
  },
  {
   "cell_type": "markdown",
   "id": "98fa309d",
   "metadata": {
    "id": "98fa309d"
   },
   "source": [
    "Preparing Variables"
   ]
  },
  {
   "cell_type": "code",
   "execution_count": 36,
   "id": "d9be9e12",
   "metadata": {
    "id": "d9be9e12",
    "outputId": "90b09328-fc41-420c-a456-db3ff64f9bd7"
   },
   "outputs": [
    {
     "data": {
      "text/html": [
       "<table>\n",
       "<thead><tr><th></th><th scope=col>ï..</th><th scope=col>Beginning_of_Season</th><th scope=col>Weekend</th><th scope=col>Event_Length</th><th scope=col>Morning</th><th scope=col>Branded</th><th scope=col>Color_Popularity</th><th scope=col>ConcurrentEvents</th><th scope=col>Number_Competing_Styles_in_Event</th><th scope=col>Num_Branded_Events12</th><th scope=col>Brand_MSRP_Index</th><th scope=col>Bottoms</th><th scope=col>Tops</th><th scope=col>Dresses</th></tr></thead>\n",
       "<tbody>\n",
       "\t<tr><th scope=row>1</th><td>Item A</td><td>1     </td><td>0     </td><td>2     </td><td>0     </td><td>1     </td><td>0.17  </td><td>2     </td><td>3     </td><td>2     </td><td>0.87  </td><td>0     </td><td>1     </td><td>0     </td></tr>\n",
       "\t<tr><th scope=row>1.1</th><td>Item A</td><td>1     </td><td>0     </td><td>2     </td><td>0     </td><td>1     </td><td>0.17  </td><td>2     </td><td>3     </td><td>2     </td><td>0.87  </td><td>0     </td><td>1     </td><td>0     </td></tr>\n",
       "\t<tr><th scope=row>1.2</th><td>Item A</td><td>1     </td><td>0     </td><td>2     </td><td>0     </td><td>1     </td><td>0.17  </td><td>2     </td><td>3     </td><td>2     </td><td>0.87  </td><td>0     </td><td>1     </td><td>0     </td></tr>\n",
       "\t<tr><th scope=row>2</th><td>Item B</td><td>1     </td><td>0     </td><td>2     </td><td>0     </td><td>0     </td><td>0.65  </td><td>2     </td><td>3     </td><td>1     </td><td>0.33  </td><td>0     </td><td>1     </td><td>0     </td></tr>\n",
       "\t<tr><th scope=row>2.1</th><td>Item B</td><td>1     </td><td>0     </td><td>2     </td><td>0     </td><td>0     </td><td>0.65  </td><td>2     </td><td>3     </td><td>1     </td><td>0.33  </td><td>0     </td><td>1     </td><td>0     </td></tr>\n",
       "\t<tr><th scope=row>2.2</th><td>Item B</td><td>1     </td><td>0     </td><td>2     </td><td>0     </td><td>0     </td><td>0.65  </td><td>2     </td><td>3     </td><td>1     </td><td>0.33  </td><td>0     </td><td>1     </td><td>0     </td></tr>\n",
       "\t<tr><th scope=row>3</th><td>Item C</td><td>1     </td><td>0     </td><td>2     </td><td>0     </td><td>1     </td><td>0.08  </td><td>2     </td><td>3     </td><td>1     </td><td>1.18  </td><td>0     </td><td>1     </td><td>0     </td></tr>\n",
       "\t<tr><th scope=row>3.1</th><td>Item C</td><td>1     </td><td>0     </td><td>2     </td><td>0     </td><td>1     </td><td>0.08  </td><td>2     </td><td>3     </td><td>1     </td><td>1.18  </td><td>0     </td><td>1     </td><td>0     </td></tr>\n",
       "\t<tr><th scope=row>3.2</th><td>Item C</td><td>1     </td><td>0     </td><td>2     </td><td>0     </td><td>1     </td><td>0.08  </td><td>2     </td><td>3     </td><td>1     </td><td>1.18  </td><td>0     </td><td>1     </td><td>0     </td></tr>\n",
       "</tbody>\n",
       "</table>\n"
      ],
      "text/latex": [
       "\\begin{tabular}{r|llllllllllllll}\n",
       "  & ï.. & Beginning\\_of\\_Season & Weekend & Event\\_Length & Morning & Branded & Color\\_Popularity & ConcurrentEvents & Number\\_Competing\\_Styles\\_in\\_Event & Num\\_Branded\\_Events12 & Brand\\_MSRP\\_Index & Bottoms & Tops & Dresses\\\\\n",
       "\\hline\n",
       "\t1 & Item A & 1      & 0      & 2      & 0      & 1      & 0.17   & 2      & 3      & 2      & 0.87   & 0      & 1      & 0     \\\\\n",
       "\t1.1 & Item A & 1      & 0      & 2      & 0      & 1      & 0.17   & 2      & 3      & 2      & 0.87   & 0      & 1      & 0     \\\\\n",
       "\t1.2 & Item A & 1      & 0      & 2      & 0      & 1      & 0.17   & 2      & 3      & 2      & 0.87   & 0      & 1      & 0     \\\\\n",
       "\t2 & Item B & 1      & 0      & 2      & 0      & 0      & 0.65   & 2      & 3      & 1      & 0.33   & 0      & 1      & 0     \\\\\n",
       "\t2.1 & Item B & 1      & 0      & 2      & 0      & 0      & 0.65   & 2      & 3      & 1      & 0.33   & 0      & 1      & 0     \\\\\n",
       "\t2.2 & Item B & 1      & 0      & 2      & 0      & 0      & 0.65   & 2      & 3      & 1      & 0.33   & 0      & 1      & 0     \\\\\n",
       "\t3 & Item C & 1      & 0      & 2      & 0      & 1      & 0.08   & 2      & 3      & 1      & 1.18   & 0      & 1      & 0     \\\\\n",
       "\t3.1 & Item C & 1      & 0      & 2      & 0      & 1      & 0.08   & 2      & 3      & 1      & 1.18   & 0      & 1      & 0     \\\\\n",
       "\t3.2 & Item C & 1      & 0      & 2      & 0      & 1      & 0.08   & 2      & 3      & 1      & 1.18   & 0      & 1      & 0     \\\\\n",
       "\\end{tabular}\n"
      ],
      "text/markdown": [
       "\n",
       "| <!--/--> | ï.. | Beginning_of_Season | Weekend | Event_Length | Morning | Branded | Color_Popularity | ConcurrentEvents | Number_Competing_Styles_in_Event | Num_Branded_Events12 | Brand_MSRP_Index | Bottoms | Tops | Dresses |\n",
       "|---|---|---|---|---|---|---|---|---|---|---|---|---|---|---|\n",
       "| 1 | Item A | 1      | 0      | 2      | 0      | 1      | 0.17   | 2      | 3      | 2      | 0.87   | 0      | 1      | 0      |\n",
       "| 1.1 | Item A | 1      | 0      | 2      | 0      | 1      | 0.17   | 2      | 3      | 2      | 0.87   | 0      | 1      | 0      |\n",
       "| 1.2 | Item A | 1      | 0      | 2      | 0      | 1      | 0.17   | 2      | 3      | 2      | 0.87   | 0      | 1      | 0      |\n",
       "| 2 | Item B | 1      | 0      | 2      | 0      | 0      | 0.65   | 2      | 3      | 1      | 0.33   | 0      | 1      | 0      |\n",
       "| 2.1 | Item B | 1      | 0      | 2      | 0      | 0      | 0.65   | 2      | 3      | 1      | 0.33   | 0      | 1      | 0      |\n",
       "| 2.2 | Item B | 1      | 0      | 2      | 0      | 0      | 0.65   | 2      | 3      | 1      | 0.33   | 0      | 1      | 0      |\n",
       "| 3 | Item C | 1      | 0      | 2      | 0      | 1      | 0.08   | 2      | 3      | 1      | 1.18   | 0      | 1      | 0      |\n",
       "| 3.1 | Item C | 1      | 0      | 2      | 0      | 1      | 0.08   | 2      | 3      | 1      | 1.18   | 0      | 1      | 0      |\n",
       "| 3.2 | Item C | 1      | 0      | 2      | 0      | 1      | 0.08   | 2      | 3      | 1      | 1.18   | 0      | 1      | 0      |\n",
       "\n"
      ],
      "text/plain": [
       "    ï..    Beginning_of_Season Weekend Event_Length Morning Branded\n",
       "1   Item A 1                   0       2            0       1      \n",
       "1.1 Item A 1                   0       2            0       1      \n",
       "1.2 Item A 1                   0       2            0       1      \n",
       "2   Item B 1                   0       2            0       0      \n",
       "2.1 Item B 1                   0       2            0       0      \n",
       "2.2 Item B 1                   0       2            0       0      \n",
       "3   Item C 1                   0       2            0       1      \n",
       "3.1 Item C 1                   0       2            0       1      \n",
       "3.2 Item C 1                   0       2            0       1      \n",
       "    Color_Popularity ConcurrentEvents Number_Competing_Styles_in_Event\n",
       "1   0.17             2                3                               \n",
       "1.1 0.17             2                3                               \n",
       "1.2 0.17             2                3                               \n",
       "2   0.65             2                3                               \n",
       "2.1 0.65             2                3                               \n",
       "2.2 0.65             2                3                               \n",
       "3   0.08             2                3                               \n",
       "3.1 0.08             2                3                               \n",
       "3.2 0.08             2                3                               \n",
       "    Num_Branded_Events12 Brand_MSRP_Index Bottoms Tops Dresses\n",
       "1   2                    0.87             0       1    0      \n",
       "1.1 2                    0.87             0       1    0      \n",
       "1.2 2                    0.87             0       1    0      \n",
       "2   1                    0.33             0       1    0      \n",
       "2.1 1                    0.33             0       1    0      \n",
       "2.2 1                    0.33             0       1    0      \n",
       "3   1                    1.18             0       1    0      \n",
       "3.1 1                    1.18             0       1    0      \n",
       "3.2 1                    1.18             0       1    0      "
      ]
     },
     "metadata": {},
     "output_type": "display_data"
    }
   ],
   "source": [
    "Data_test2= Data_test[rep(seq_len(nrow(Data_test)), each = 3), ]\n",
    "Data_test2"
   ]
  },
  {
   "cell_type": "markdown",
   "id": "fccef50f",
   "metadata": {
    "id": "fccef50f"
   },
   "source": [
    "Note that since k is a part of constraints and there are different values for k for different choices of prices. **Thus, we need to solve the model several time**"
   ]
  },
  {
   "cell_type": "code",
   "execution_count": 37,
   "id": "eaecf16a",
   "metadata": {
    "id": "eaecf16a",
    "outputId": "902066c8-8db2-4ca3-a412-aa2a995249b9"
   },
   "outputs": [
    {
     "data": {
      "text/html": [
       "<ol class=list-inline>\n",
       "\t<li>75</li>\n",
       "\t<li>80</li>\n",
       "\t<li>85</li>\n",
       "\t<li>90</li>\n",
       "\t<li>95</li>\n",
       "\t<li>100</li>\n",
       "\t<li>105</li>\n",
       "</ol>\n"
      ],
      "text/latex": [
       "\\begin{enumerate*}\n",
       "\\item 75\n",
       "\\item 80\n",
       "\\item 85\n",
       "\\item 90\n",
       "\\item 95\n",
       "\\item 100\n",
       "\\item 105\n",
       "\\end{enumerate*}\n"
      ],
      "text/markdown": [
       "1. 75\n",
       "2. 80\n",
       "3. 85\n",
       "4. 90\n",
       "5. 95\n",
       "6. 100\n",
       "7. 105\n",
       "\n",
       "\n"
      ],
      "text/plain": [
       "[1]  75  80  85  90  95 100 105"
      ]
     },
     "metadata": {},
     "output_type": "display_data"
    }
   ],
   "source": [
    "possible_k= seq(length(Prices)*min(Prices), length(Prices)*max(Prices), by=5)\n",
    "possible_k"
   ]
  },
  {
   "cell_type": "markdown",
   "id": "d75588ce",
   "metadata": {
    "id": "d75588ce"
   },
   "source": [
    "Initialization"
   ]
  },
  {
   "cell_type": "code",
   "execution_count": 53,
   "id": "ec3b498a",
   "metadata": {
    "id": "ec3b498a"
   },
   "outputs": [],
   "source": [
    "Demand_pred_tree= vector(mode= \"numeric\")\n",
    "Demand_pred_lm= vector(mode= \"numeric\")\n",
    "Objectives= vector(mode= \"numeric\")\n",
    "Solutions= matrix(nrow= length(possible_k), ncol= length(Prices)*nrow(Data_test))"
   ]
  },
  {
   "cell_type": "markdown",
   "id": "69e84027",
   "metadata": {},
   "source": [
    "### Optimal Prices for Decision Tree"
   ]
  },
  {
   "cell_type": "code",
   "execution_count": 54,
   "id": "ce3767e6",
   "metadata": {},
   "outputs": [
    {
     "data": {
      "text/html": [
       "<ol class=list-inline>\n",
       "\t<li>5527.57336380698</li>\n",
       "\t<li>5527.57336380698</li>\n",
       "\t<li>3332.39199382253</li>\n",
       "\t<li>6198.16184754316</li>\n",
       "\t<li>6198.16184754316</li>\n",
       "\t<li>3332.39199382253</li>\n",
       "\t<li>5527.57336380698</li>\n",
       "\t<li>5527.57336380698</li>\n",
       "\t<li>3332.39199382253</li>\n",
       "</ol>\n"
      ],
      "text/latex": [
       "\\begin{enumerate*}\n",
       "\\item 5527.57336380698\n",
       "\\item 5527.57336380698\n",
       "\\item 3332.39199382253\n",
       "\\item 6198.16184754316\n",
       "\\item 6198.16184754316\n",
       "\\item 3332.39199382253\n",
       "\\item 5527.57336380698\n",
       "\\item 5527.57336380698\n",
       "\\item 3332.39199382253\n",
       "\\end{enumerate*}\n"
      ],
      "text/markdown": [
       "1. 5527.57336380698\n",
       "2. 5527.57336380698\n",
       "3. 3332.39199382253\n",
       "4. 6198.16184754316\n",
       "5. 6198.16184754316\n",
       "6. 3332.39199382253\n",
       "7. 5527.57336380698\n",
       "8. 5527.57336380698\n",
       "9. 3332.39199382253\n",
       "\n",
       "\n"
      ],
      "text/plain": [
       "[1] 5527.573 5527.573 3332.392 6198.162 6198.162 3332.392 5527.573 5527.573\n",
       "[9] 3332.392"
      ]
     },
     "metadata": {},
     "output_type": "display_data"
    }
   ],
   "source": [
    "for (n in 1:length(possible_k)){\n",
    "    for (i in 1:length(P)){\n",
    "        Data_test2$Price= P[i]\n",
    "        Data_test2$Relative_Price_of_Competing_Styles= P[i]/(possible_k[n]/3)\n",
    "        Demand_pred_tree[i]= predict(regression_tree, Data_test2[i,])\n",
    "    }\n",
    "    Obj_coeff= Demand_pred_tree*P\n",
    "    Cons_coeff= matrix(c(1,1,1,0,0,0,0,0,0,\n",
    "                         0,0,0,1,1,1,0,0,0,\n",
    "                         0,0,0,0,0,0,1,1,1,\n",
    "                         P[1],P[2],P[3],P[4],P[5],P[6],P[7],P[8],P[9]), nrow=4, byrow=TRUE)\n",
    "    Dir = c(\"==\",\n",
    "            \"==\",\n",
    "            \"==\",\n",
    "            \"==\")\n",
    "    RHS= c(1,1,1, possible_k[n])\n",
    "    Model= lp(\"max\", Obj_coeff, Cons_coeff, Dir, RHS, all.bin= TRUE)\n",
    "    Objectives[n]= Model$objval\n",
    "    Solutions[n,]= Model$solution\n",
    "}\n",
    "Demand_pred_tree"
   ]
  },
  {
   "cell_type": "code",
   "execution_count": 55,
   "id": "3284ae1a",
   "metadata": {},
   "outputs": [
    {
     "data": {
      "text/html": [
       "517599.257254953"
      ],
      "text/latex": [
       "517599.257254953"
      ],
      "text/markdown": [
       "517599.257254953"
      ],
      "text/plain": [
       "[1] 517599.3"
      ]
     },
     "metadata": {},
     "output_type": "display_data"
    },
    {
     "data": {
      "text/html": [
       "<dl class=dl-horizontal>\n",
       "\t<dt>1</dt>\n",
       "\t\t<dd>0</dd>\n",
       "\t<dt>2</dt>\n",
       "\t\t<dd>1</dd>\n",
       "\t<dt>3</dt>\n",
       "\t\t<dd>0</dd>\n",
       "\t<dt>4</dt>\n",
       "\t\t<dd>0</dd>\n",
       "\t<dt>5</dt>\n",
       "\t\t<dd>1</dd>\n",
       "\t<dt>6</dt>\n",
       "\t\t<dd>0</dd>\n",
       "\t<dt>7</dt>\n",
       "\t\t<dd>0</dd>\n",
       "\t<dt>8</dt>\n",
       "\t\t<dd>1</dd>\n",
       "\t<dt>9</dt>\n",
       "\t\t<dd>0</dd>\n",
       "\t<dt>Objectives</dt>\n",
       "\t\t<dd>517599.257254953</dd>\n",
       "</dl>\n"
      ],
      "text/latex": [
       "\\begin{description*}\n",
       "\\item[1] 0\n",
       "\\item[2] 1\n",
       "\\item[3] 0\n",
       "\\item[4] 0\n",
       "\\item[5] 1\n",
       "\\item[6] 0\n",
       "\\item[7] 0\n",
       "\\item[8] 1\n",
       "\\item[9] 0\n",
       "\\item[Objectives] 517599.257254953\n",
       "\\end{description*}\n"
      ],
      "text/markdown": [
       "1\n",
       ":   02\n",
       ":   13\n",
       ":   04\n",
       ":   05\n",
       ":   16\n",
       ":   07\n",
       ":   08\n",
       ":   19\n",
       ":   0Objectives\n",
       ":   517599.257254953\n",
       "\n"
      ],
      "text/plain": [
       "                                                                             \n",
       "       0.0        1.0        0.0        0.0        1.0        0.0        0.0 \n",
       "                      Objectives \n",
       "       1.0        0.0   517599.3 "
      ]
     },
     "metadata": {},
     "output_type": "display_data"
    }
   ],
   "source": [
    "results_tree = cbind(Solutions, Objectives)\n",
    "tree_best_objective = max(Objectives)\n",
    "tree_solution = results_tree[match(tree_best_objective, Objectives),]\n",
    "tree_best_objective\n",
    "tree_solution"
   ]
  },
  {
   "cell_type": "markdown",
   "id": "8c436601",
   "metadata": {},
   "source": [
    "### Optimal Price for Linear Regression"
   ]
  },
  {
   "cell_type": "code",
   "execution_count": 56,
   "id": "473ccd5f",
   "metadata": {},
   "outputs": [
    {
     "data": {
      "text/html": [
       "<ol class=list-inline>\n",
       "\t<li>7028.35776406383</li>\n",
       "\t<li>5897.43741901673</li>\n",
       "\t<li>4766.51707396963</li>\n",
       "\t<li>6959.16918082244</li>\n",
       "\t<li>5828.24883577535</li>\n",
       "\t<li>4697.32849072825</li>\n",
       "\t<li>6789.67002469234</li>\n",
       "\t<li>5658.74967964524</li>\n",
       "\t<li>4527.82933459815</li>\n",
       "</ol>\n"
      ],
      "text/latex": [
       "\\begin{enumerate*}\n",
       "\\item 7028.35776406383\n",
       "\\item 5897.43741901673\n",
       "\\item 4766.51707396963\n",
       "\\item 6959.16918082244\n",
       "\\item 5828.24883577535\n",
       "\\item 4697.32849072825\n",
       "\\item 6789.67002469234\n",
       "\\item 5658.74967964524\n",
       "\\item 4527.82933459815\n",
       "\\end{enumerate*}\n"
      ],
      "text/markdown": [
       "1. 7028.35776406383\n",
       "2. 5897.43741901673\n",
       "3. 4766.51707396963\n",
       "4. 6959.16918082244\n",
       "5. 5828.24883577535\n",
       "6. 4697.32849072825\n",
       "7. 6789.67002469234\n",
       "8. 5658.74967964524\n",
       "9. 4527.82933459815\n",
       "\n",
       "\n"
      ],
      "text/plain": [
       "[1] 7028.358 5897.437 4766.517 6959.169 5828.249 4697.328 6789.670 5658.750\n",
       "[9] 4527.829"
      ]
     },
     "metadata": {},
     "output_type": "display_data"
    }
   ],
   "source": [
    "for (n in 1:length(possible_k)){\n",
    "    for (i in 1:length(P)){\n",
    "        Data_test2$Price= P[i]\n",
    "        Data_test2$Relative_Price_of_Competing_Styles= P[i]/(possible_k[n]/3)\n",
    "        Demand_pred_lm[i]= predict(lm_model, Data_test2[i,])\n",
    "    }\n",
    "    Obj_coeff= Demand_pred_lm*P\n",
    "    Cons_coeff= matrix(c(1,1,1,0,0,0,0,0,0,\n",
    "                         0,0,0,1,1,1,0,0,0,\n",
    "                         0,0,0,0,0,0,1,1,1,\n",
    "                         P[1],P[2],P[3],P[4],P[5],P[6],P[7],P[8],P[9]), nrow=4, byrow=TRUE)\n",
    "    Dir = c(\"==\",\n",
    "            \"==\",\n",
    "            \"==\",\n",
    "            \"==\")\n",
    "    RHS= c(1,1,1, possible_k[n])\n",
    "    Model= lp(\"max\", Obj_coeff, Cons_coeff, Dir, RHS, all.bin= TRUE)\n",
    "    Objectives[n]= Model$objval\n",
    "    Solutions[n,]= Model$solution\n",
    "}\n",
    "Demand_pred_lm"
   ]
  },
  {
   "cell_type": "code",
   "execution_count": 57,
   "id": "07f9e14e",
   "metadata": {},
   "outputs": [
    {
     "data": {
      "text/html": [
       "<dl class=dl-horizontal>\n",
       "\t<dt>1</dt>\n",
       "\t\t<dd>0</dd>\n",
       "\t<dt>2</dt>\n",
       "\t\t<dd>1</dd>\n",
       "\t<dt>3</dt>\n",
       "\t\t<dd>0</dd>\n",
       "\t<dt>4</dt>\n",
       "\t\t<dd>0</dd>\n",
       "\t<dt>5</dt>\n",
       "\t\t<dd>1</dd>\n",
       "\t<dt>6</dt>\n",
       "\t\t<dd>0</dd>\n",
       "\t<dt>7</dt>\n",
       "\t\t<dd>0</dd>\n",
       "\t<dt>8</dt>\n",
       "\t\t<dd>1</dd>\n",
       "\t<dt>9</dt>\n",
       "\t\t<dd>0</dd>\n",
       "\t<dt>Objectives</dt>\n",
       "\t\t<dd>510528.903241794</dd>\n",
       "</dl>\n"
      ],
      "text/latex": [
       "\\begin{description*}\n",
       "\\item[1] 0\n",
       "\\item[2] 1\n",
       "\\item[3] 0\n",
       "\\item[4] 0\n",
       "\\item[5] 1\n",
       "\\item[6] 0\n",
       "\\item[7] 0\n",
       "\\item[8] 1\n",
       "\\item[9] 0\n",
       "\\item[Objectives] 510528.903241794\n",
       "\\end{description*}\n"
      ],
      "text/markdown": [
       "1\n",
       ":   02\n",
       ":   13\n",
       ":   04\n",
       ":   05\n",
       ":   16\n",
       ":   07\n",
       ":   08\n",
       ":   19\n",
       ":   0Objectives\n",
       ":   510528.903241794\n",
       "\n"
      ],
      "text/plain": [
       "                                                                             \n",
       "       0.0        1.0        0.0        0.0        1.0        0.0        0.0 \n",
       "                      Objectives \n",
       "       1.0        0.0   510528.9 "
      ]
     },
     "metadata": {},
     "output_type": "display_data"
    }
   ],
   "source": [
    "results_lm = cbind(Solutions, Objectives)\n",
    "lm_best_objective = max(Objectives)\n",
    "lm_solution = results_lm[match(lm_best_objective, Objectives),]\n",
    "lm_solution"
   ]
  },
  {
   "cell_type": "markdown",
   "id": "5d67d248",
   "metadata": {},
   "source": [
    "#### So the optimal price does not change."
   ]
  },
  {
   "cell_type": "markdown",
   "id": "0c215ce3",
   "metadata": {
    "id": "0c215ce3"
   },
   "source": [
    "Solving the model for all possible values of k and with assuming item A cannot be sold at 25$."
   ]
  },
  {
   "cell_type": "code",
   "execution_count": 64,
   "id": "d25f443d",
   "metadata": {
    "id": "d25f443d",
    "outputId": "558e863f-0fc2-4d69-a9ef-f96772ea6d43"
   },
   "outputs": [
    {
     "data": {
      "text/html": [
       "<ol class=list-inline>\n",
       "\t<li>5527.57336380698</li>\n",
       "\t<li>5527.57336380698</li>\n",
       "\t<li>3332.39199382253</li>\n",
       "\t<li>6198.16184754316</li>\n",
       "\t<li>6198.16184754316</li>\n",
       "\t<li>3332.39199382253</li>\n",
       "\t<li>5527.57336380698</li>\n",
       "\t<li>5527.57336380698</li>\n",
       "\t<li>3332.39199382253</li>\n",
       "</ol>\n"
      ],
      "text/latex": [
       "\\begin{enumerate*}\n",
       "\\item 5527.57336380698\n",
       "\\item 5527.57336380698\n",
       "\\item 3332.39199382253\n",
       "\\item 6198.16184754316\n",
       "\\item 6198.16184754316\n",
       "\\item 3332.39199382253\n",
       "\\item 5527.57336380698\n",
       "\\item 5527.57336380698\n",
       "\\item 3332.39199382253\n",
       "\\end{enumerate*}\n"
      ],
      "text/markdown": [
       "1. 5527.57336380698\n",
       "2. 5527.57336380698\n",
       "3. 3332.39199382253\n",
       "4. 6198.16184754316\n",
       "5. 6198.16184754316\n",
       "6. 3332.39199382253\n",
       "7. 5527.57336380698\n",
       "8. 5527.57336380698\n",
       "9. 3332.39199382253\n",
       "\n",
       "\n"
      ],
      "text/plain": [
       "[1] 5527.573 5527.573 3332.392 6198.162 6198.162 3332.392 5527.573 5527.573\n",
       "[9] 3332.392"
      ]
     },
     "metadata": {},
     "output_type": "display_data"
    }
   ],
   "source": [
    "Demand_pred= vector(mode= \"numeric\")\n",
    "Objectives= vector(mode= \"numeric\")\n",
    "Solutions= matrix(nrow= length(possible_k), ncol= length(Prices)*nrow(Data_test))\n",
    "\n",
    "\n",
    "for (n in 1:length(possible_k)){\n",
    "    for (i in 1:length(P)){\n",
    "        Data_test2$Price= P[i]\n",
    "        Data_test2$Relative_Price_of_Competing_Styles= P[i]/(possible_k[n]/3)\n",
    "        Demand_pred[i]= predict(regression_tree, Data_test2[i,])\n",
    "    }\n",
    "    Obj_coeff= Demand_pred*P\n",
    "    Cons_coeff= matrix(c(1,1,1,0,0,0,0,0,0,\n",
    "                         0,0,0,1,1,1,0,0,0,\n",
    "                         0,0,0,0,0,0,1,1,1,\n",
    "                         1,0,0,0,0,0,0,0,0,\n",
    "                         P[1],P[2],P[3],P[4],P[5],P[6],P[7],P[8],P[9]), nrow=5, byrow=TRUE)\n",
    "    Dir = c(\"==\",\n",
    "            \"==\",\n",
    "            \"==\",\n",
    "            \"==\",\n",
    "            \"==\")\n",
    "    RHS= c(1,1,1, 0, possible_k[n])\n",
    "    Model= lp(\"max\", Obj_coeff, Cons_coeff, Dir, RHS, all.bin= TRUE)\n",
    "    Objectives[n]= Model$objval\n",
    "    Solutions[n,]= Model$solution\n",
    "}\n",
    "Demand_pred"
   ]
  },
  {
   "cell_type": "code",
   "execution_count": 65,
   "id": "40bfd2dc",
   "metadata": {
    "id": "40bfd2dc",
    "outputId": "d65edd48-6fe1-4d72-ca6c-a1c4bbe7f905"
   },
   "outputs": [
    {
     "data": {
      "text/html": [
       "<table>\n",
       "<tbody>\n",
       "\t<tr><td>0</td><td>0</td><td>0</td><td>0</td><td>0</td><td>0</td><td>0</td><td>0</td><td>0</td></tr>\n",
       "\t<tr><td>0</td><td>1</td><td>0</td><td>1</td><td>0</td><td>0</td><td>1</td><td>0</td><td>0</td></tr>\n",
       "\t<tr><td>0</td><td>1</td><td>0</td><td>0</td><td>1</td><td>0</td><td>1</td><td>0</td><td>0</td></tr>\n",
       "\t<tr><td>0</td><td>1</td><td>0</td><td>0</td><td>1</td><td>0</td><td>0</td><td>1</td><td>0</td></tr>\n",
       "\t<tr><td>0</td><td>1</td><td>0</td><td>0</td><td>1</td><td>0</td><td>0</td><td>0</td><td>1</td></tr>\n",
       "\t<tr><td>0</td><td>0</td><td>1</td><td>0</td><td>1</td><td>0</td><td>0</td><td>0</td><td>1</td></tr>\n",
       "\t<tr><td>0</td><td>0</td><td>1</td><td>0</td><td>0</td><td>1</td><td>0</td><td>0</td><td>1</td></tr>\n",
       "</tbody>\n",
       "</table>\n"
      ],
      "text/latex": [
       "\\begin{tabular}{lllllllll}\n",
       "\t 0 & 0 & 0 & 0 & 0 & 0 & 0 & 0 & 0\\\\\n",
       "\t 0 & 1 & 0 & 1 & 0 & 0 & 1 & 0 & 0\\\\\n",
       "\t 0 & 1 & 0 & 0 & 1 & 0 & 1 & 0 & 0\\\\\n",
       "\t 0 & 1 & 0 & 0 & 1 & 0 & 0 & 1 & 0\\\\\n",
       "\t 0 & 1 & 0 & 0 & 1 & 0 & 0 & 0 & 1\\\\\n",
       "\t 0 & 0 & 1 & 0 & 1 & 0 & 0 & 0 & 1\\\\\n",
       "\t 0 & 0 & 1 & 0 & 0 & 1 & 0 & 0 & 1\\\\\n",
       "\\end{tabular}\n"
      ],
      "text/markdown": [
       "\n",
       "| 0 | 0 | 0 | 0 | 0 | 0 | 0 | 0 | 0 |\n",
       "| 0 | 1 | 0 | 1 | 0 | 0 | 1 | 0 | 0 |\n",
       "| 0 | 1 | 0 | 0 | 1 | 0 | 1 | 0 | 0 |\n",
       "| 0 | 1 | 0 | 0 | 1 | 0 | 0 | 1 | 0 |\n",
       "| 0 | 1 | 0 | 0 | 1 | 0 | 0 | 0 | 1 |\n",
       "| 0 | 0 | 1 | 0 | 1 | 0 | 0 | 0 | 1 |\n",
       "| 0 | 0 | 1 | 0 | 0 | 1 | 0 | 0 | 1 |\n",
       "\n"
      ],
      "text/plain": [
       "     [,1] [,2] [,3] [,4] [,5] [,6] [,7] [,8] [,9]\n",
       "[1,] 0    0    0    0    0    0    0    0    0   \n",
       "[2,] 0    1    0    1    0    0    1    0    0   \n",
       "[3,] 0    1    0    0    1    0    1    0    0   \n",
       "[4,] 0    1    0    0    1    0    0    1    0   \n",
       "[5,] 0    1    0    0    1    0    0    0    1   \n",
       "[6,] 0    0    1    0    1    0    0    0    1   \n",
       "[7,] 0    0    1    0    0    1    0    0    1   "
      ]
     },
     "metadata": {},
     "output_type": "display_data"
    }
   ],
   "source": [
    "Solutions"
   ]
  },
  {
   "cell_type": "code",
   "execution_count": 66,
   "id": "6cfbec41",
   "metadata": {
    "id": "6cfbec41",
    "outputId": "9cfdeb8b-6ff0-46f5-c573-2192fbdfcdba"
   },
   "outputs": [
    {
     "data": {
      "text/html": [
       "<ol class=list-inline>\n",
       "\t<li>0</li>\n",
       "\t<li>458970.581197912</li>\n",
       "\t<li>489961.390435729</li>\n",
       "\t<li>517599.257254953</li>\n",
       "\t<li>468405.776124477</li>\n",
       "\t<li>419212.294994002</li>\n",
       "\t<li>349901.159351452</li>\n",
       "</ol>\n"
      ],
      "text/latex": [
       "\\begin{enumerate*}\n",
       "\\item 0\n",
       "\\item 458970.581197912\n",
       "\\item 489961.390435729\n",
       "\\item 517599.257254953\n",
       "\\item 468405.776124477\n",
       "\\item 419212.294994002\n",
       "\\item 349901.159351452\n",
       "\\end{enumerate*}\n"
      ],
      "text/markdown": [
       "1. 0\n",
       "2. 458970.581197912\n",
       "3. 489961.390435729\n",
       "4. 517599.257254953\n",
       "5. 468405.776124477\n",
       "6. 419212.294994002\n",
       "7. 349901.159351452\n",
       "\n",
       "\n"
      ],
      "text/plain": [
       "[1]      0.0 458970.6 489961.4 517599.3 468405.8 419212.3 349901.2"
      ]
     },
     "metadata": {},
     "output_type": "display_data"
    }
   ],
   "source": [
    "Objectives"
   ]
  },
  {
   "cell_type": "markdown",
   "id": "ec43c1c3",
   "metadata": {},
   "source": [
    "The first element of objective list is zero as the equation did not have a feasible solution."
   ]
  },
  {
   "cell_type": "code",
   "execution_count": 67,
   "id": "5e59bf21",
   "metadata": {
    "id": "5e59bf21",
    "outputId": "ec6d17d2-ef60-4c5b-e00e-0811fcc5717f"
   },
   "outputs": [
    {
     "data": {
      "text/html": [
       "<table>\n",
       "<thead><tr><th scope=col></th><th scope=col></th><th scope=col></th><th scope=col></th><th scope=col></th><th scope=col></th><th scope=col></th><th scope=col></th><th scope=col></th><th scope=col>Objectives</th></tr></thead>\n",
       "<tbody>\n",
       "\t<tr><td>0       </td><td>0       </td><td>0       </td><td>0       </td><td>0       </td><td>0       </td><td>0       </td><td>0       </td><td>0       </td><td>     0.0</td></tr>\n",
       "\t<tr><td>0       </td><td>1       </td><td>0       </td><td>1       </td><td>0       </td><td>0       </td><td>1       </td><td>0       </td><td>0       </td><td>458970.6</td></tr>\n",
       "\t<tr><td>0       </td><td>1       </td><td>0       </td><td>0       </td><td>1       </td><td>0       </td><td>1       </td><td>0       </td><td>0       </td><td>489961.4</td></tr>\n",
       "\t<tr><td>0       </td><td>1       </td><td>0       </td><td>0       </td><td>1       </td><td>0       </td><td>0       </td><td>1       </td><td>0       </td><td>517599.3</td></tr>\n",
       "\t<tr><td>0       </td><td>1       </td><td>0       </td><td>0       </td><td>1       </td><td>0       </td><td>0       </td><td>0       </td><td>1       </td><td>468405.8</td></tr>\n",
       "\t<tr><td>0       </td><td>0       </td><td>1       </td><td>0       </td><td>1       </td><td>0       </td><td>0       </td><td>0       </td><td>1       </td><td>419212.3</td></tr>\n",
       "\t<tr><td>0       </td><td>0       </td><td>1       </td><td>0       </td><td>0       </td><td>1       </td><td>0       </td><td>0       </td><td>1       </td><td>349901.2</td></tr>\n",
       "</tbody>\n",
       "</table>\n"
      ],
      "text/latex": [
       "\\begin{tabular}{llllllllll}\n",
       "  &  &  &  &  &  &  &  &  & Objectives\\\\\n",
       "\\hline\n",
       "\t 0        & 0        & 0        & 0        & 0        & 0        & 0        & 0        & 0        &      0.0\\\\\n",
       "\t 0        & 1        & 0        & 1        & 0        & 0        & 1        & 0        & 0        & 458970.6\\\\\n",
       "\t 0        & 1        & 0        & 0        & 1        & 0        & 1        & 0        & 0        & 489961.4\\\\\n",
       "\t 0        & 1        & 0        & 0        & 1        & 0        & 0        & 1        & 0        & 517599.3\\\\\n",
       "\t 0        & 1        & 0        & 0        & 1        & 0        & 0        & 0        & 1        & 468405.8\\\\\n",
       "\t 0        & 0        & 1        & 0        & 1        & 0        & 0        & 0        & 1        & 419212.3\\\\\n",
       "\t 0        & 0        & 1        & 0        & 0        & 1        & 0        & 0        & 1        & 349901.2\\\\\n",
       "\\end{tabular}\n"
      ],
      "text/markdown": [
       "\n",
       "|  |  |  |  |  |  |  |  |  | Objectives |\n",
       "|---|---|---|---|---|---|---|---|---|---|\n",
       "| 0        | 0        | 0        | 0        | 0        | 0        | 0        | 0        | 0        |      0.0 |\n",
       "| 0        | 1        | 0        | 1        | 0        | 0        | 1        | 0        | 0        | 458970.6 |\n",
       "| 0        | 1        | 0        | 0        | 1        | 0        | 1        | 0        | 0        | 489961.4 |\n",
       "| 0        | 1        | 0        | 0        | 1        | 0        | 0        | 1        | 0        | 517599.3 |\n",
       "| 0        | 1        | 0        | 0        | 1        | 0        | 0        | 0        | 1        | 468405.8 |\n",
       "| 0        | 0        | 1        | 0        | 1        | 0        | 0        | 0        | 1        | 419212.3 |\n",
       "| 0        | 0        | 1        | 0        | 0        | 1        | 0        | 0        | 1        | 349901.2 |\n",
       "\n"
      ],
      "text/plain": [
       "                       Objectives\n",
       "[1,] 0 0 0 0 0 0 0 0 0      0.0  \n",
       "[2,] 0 1 0 1 0 0 1 0 0 458970.6  \n",
       "[3,] 0 1 0 0 1 0 1 0 0 489961.4  \n",
       "[4,] 0 1 0 0 1 0 0 1 0 517599.3  \n",
       "[5,] 0 1 0 0 1 0 0 0 1 468405.8  \n",
       "[6,] 0 0 1 0 1 0 0 0 1 419212.3  \n",
       "[7,] 0 0 1 0 0 1 0 0 1 349901.2  "
      ]
     },
     "metadata": {},
     "output_type": "display_data"
    }
   ],
   "source": [
    "cbind(Solutions, Objectives)"
   ]
  },
  {
   "cell_type": "code",
   "execution_count": 68,
   "id": "c7de1c8e",
   "metadata": {
    "id": "c7de1c8e",
    "outputId": "1cf150ed-f68d-4a6d-f125-ad471d400e68"
   },
   "outputs": [
    {
     "data": {
      "text/html": [
       "<ol class=list-inline>\n",
       "\t<li>0</li>\n",
       "\t<li>1</li>\n",
       "\t<li>0</li>\n",
       "\t<li>0</li>\n",
       "\t<li>1</li>\n",
       "\t<li>0</li>\n",
       "\t<li>0</li>\n",
       "\t<li>1</li>\n",
       "\t<li>0</li>\n",
       "</ol>\n"
      ],
      "text/latex": [
       "\\begin{enumerate*}\n",
       "\\item 0\n",
       "\\item 1\n",
       "\\item 0\n",
       "\\item 0\n",
       "\\item 1\n",
       "\\item 0\n",
       "\\item 0\n",
       "\\item 1\n",
       "\\item 0\n",
       "\\end{enumerate*}\n"
      ],
      "text/markdown": [
       "1. 0\n",
       "2. 1\n",
       "3. 0\n",
       "4. 0\n",
       "5. 1\n",
       "6. 0\n",
       "7. 0\n",
       "8. 1\n",
       "9. 0\n",
       "\n",
       "\n"
      ],
      "text/plain": [
       "[1] 0 1 0 0 1 0 0 1 0"
      ]
     },
     "metadata": {},
     "output_type": "display_data"
    }
   ],
   "source": [
    "Solutions[match(max(Objectives),Objectives),]"
   ]
  }
 ],
 "metadata": {
  "colab": {
   "provenance": []
  },
  "kernelspec": {
   "display_name": "R",
   "language": "R",
   "name": "ir"
  },
  "language_info": {
   "codemirror_mode": "r",
   "file_extension": ".r",
   "mimetype": "text/x-r-source",
   "name": "R",
   "pygments_lexer": "r",
   "version": "3.6.1"
  }
 },
 "nbformat": 4,
 "nbformat_minor": 5
}
